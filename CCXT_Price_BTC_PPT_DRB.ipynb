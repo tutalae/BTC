{
  "nbformat": 4,
  "nbformat_minor": 0,
  "metadata": {
    "colab": {
      "name": "CCXT Price BTC-PPT DRB.ipynb",
      "provenance": [],
      "authorship_tag": "ABX9TyNR6eMNh/3Dcbr70eY9kzrh",
      "include_colab_link": true
    },
    "kernelspec": {
      "name": "python3",
      "display_name": "Python 3"
    }
  },
  "cells": [
    {
      "cell_type": "markdown",
      "metadata": {
        "id": "view-in-github",
        "colab_type": "text"
      },
      "source": [
        "<a href=\"https://colab.research.google.com/github/tutalae/BTC/blob/master/CCXT_Price_BTC_PPT_DRB.ipynb\" target=\"_parent\"><img src=\"https://colab.research.google.com/assets/colab-badge.svg\" alt=\"Open In Colab\"/></a>"
      ]
    },
    {
      "cell_type": "code",
      "metadata": {
        "colab": {
          "base_uri": "https://localhost:8080/"
        },
        "id": "k6SpDN3a3tOd",
        "outputId": "dcbfa9fa-52dd-4f62-8ef0-e3f13f2f5d0f"
      },
      "source": [
        "!pip install ccxt"
      ],
      "execution_count": 1,
      "outputs": [
        {
          "output_type": "stream",
          "text": [
            "Requirement already satisfied: ccxt in /usr/local/lib/python3.6/dist-packages (1.41.31)\n",
            "Requirement already satisfied: requests>=2.18.4 in /usr/local/lib/python3.6/dist-packages (from ccxt) (2.23.0)\n",
            "Requirement already satisfied: certifi>=2018.1.18 in /usr/local/lib/python3.6/dist-packages (from ccxt) (2020.12.5)\n",
            "Requirement already satisfied: yarl==1.1.0; python_version >= \"3.5.2\" in /usr/local/lib/python3.6/dist-packages (from ccxt) (1.1.0)\n",
            "Requirement already satisfied: setuptools>=38.5.1 in /usr/local/lib/python3.6/dist-packages (from ccxt) (51.3.3)\n",
            "Requirement already satisfied: aiodns<2.1,>=1.1.1; python_version >= \"3.5.2\" in /usr/local/lib/python3.6/dist-packages (from ccxt) (2.0.0)\n",
            "Requirement already satisfied: aiohttp<3.8,>=3.7.2; python_version >= \"3.5.2\" in /usr/local/lib/python3.6/dist-packages (from ccxt) (3.7.3)\n",
            "Requirement already satisfied: cryptography>=2.6.1 in /usr/local/lib/python3.6/dist-packages (from ccxt) (3.3.1)\n",
            "Requirement already satisfied: idna<3,>=2.5 in /usr/local/lib/python3.6/dist-packages (from requests>=2.18.4->ccxt) (2.10)\n",
            "Requirement already satisfied: chardet<4,>=3.0.2 in /usr/local/lib/python3.6/dist-packages (from requests>=2.18.4->ccxt) (3.0.4)\n",
            "Requirement already satisfied: urllib3!=1.25.0,!=1.25.1,<1.26,>=1.21.1 in /usr/local/lib/python3.6/dist-packages (from requests>=2.18.4->ccxt) (1.24.3)\n",
            "Requirement already satisfied: multidict>=4.0 in /usr/local/lib/python3.6/dist-packages (from yarl==1.1.0; python_version >= \"3.5.2\"->ccxt) (5.1.0)\n",
            "Requirement already satisfied: typing; python_version < \"3.7\" in /usr/local/lib/python3.6/dist-packages (from aiodns<2.1,>=1.1.1; python_version >= \"3.5.2\"->ccxt) (3.7.4.3)\n",
            "Requirement already satisfied: pycares>=3.0.0 in /usr/local/lib/python3.6/dist-packages (from aiodns<2.1,>=1.1.1; python_version >= \"3.5.2\"->ccxt) (3.1.1)\n",
            "Requirement already satisfied: typing-extensions>=3.6.5 in /usr/local/lib/python3.6/dist-packages (from aiohttp<3.8,>=3.7.2; python_version >= \"3.5.2\"->ccxt) (3.7.4.3)\n",
            "Requirement already satisfied: async-timeout<4.0,>=3.0 in /usr/local/lib/python3.6/dist-packages (from aiohttp<3.8,>=3.7.2; python_version >= \"3.5.2\"->ccxt) (3.0.1)\n",
            "Requirement already satisfied: attrs>=17.3.0 in /usr/local/lib/python3.6/dist-packages (from aiohttp<3.8,>=3.7.2; python_version >= \"3.5.2\"->ccxt) (20.3.0)\n",
            "Requirement already satisfied: idna-ssl>=1.0; python_version < \"3.7\" in /usr/local/lib/python3.6/dist-packages (from aiohttp<3.8,>=3.7.2; python_version >= \"3.5.2\"->ccxt) (1.1.0)\n",
            "Requirement already satisfied: six>=1.4.1 in /usr/local/lib/python3.6/dist-packages (from cryptography>=2.6.1->ccxt) (1.15.0)\n",
            "Requirement already satisfied: cffi>=1.12 in /usr/local/lib/python3.6/dist-packages (from cryptography>=2.6.1->ccxt) (1.14.4)\n",
            "Requirement already satisfied: pycparser in /usr/local/lib/python3.6/dist-packages (from cffi>=1.12->cryptography>=2.6.1->ccxt) (2.20)\n"
          ],
          "name": "stdout"
        }
      ]
    },
    {
      "cell_type": "code",
      "metadata": {
        "id": "v8GBgyAnWm97"
      },
      "source": [
        "import ccxt\r\n",
        "from pprint import pprint\r\n",
        "import pandas as pd\r\n",
        "import datetime"
      ],
      "execution_count": 16,
      "outputs": []
    },
    {
      "cell_type": "code",
      "metadata": {
        "id": "8eMF7tXinQqq"
      },
      "source": [
        "okex = ccxt.deribit()\r\n",
        "data = okex.fetch_ohlcv('BTC-PERPETUAL', timeframe='1d', since=1551574800000, limit=None)"
      ],
      "execution_count": 17,
      "outputs": []
    },
    {
      "cell_type": "code",
      "metadata": {
        "id": "6OA1f_UVnSSS"
      },
      "source": [
        "column_names = [\"Date\", \"Open\", \"High\", \"Low\", \"Close\", \"Volume\"]\r\n",
        "df = pd.DataFrame(data, columns = column_names)\r\n",
        "df.reset_index(drop = True)\r\n",
        "df['Date'] = pd.date_range(start='3/3/2019', periods=len(df), freq='D')"
      ],
      "execution_count": 18,
      "outputs": []
    },
    {
      "cell_type": "code",
      "metadata": {
        "colab": {
          "base_uri": "https://localhost:8080/",
          "height": 419
        },
        "id": "0K_YidUvnUEB",
        "outputId": "366073f4-546b-44a9-82d2-dbe9f92b50c2"
      },
      "source": [
        "df"
      ],
      "execution_count": 19,
      "outputs": [
        {
          "output_type": "execute_result",
          "data": {
            "text/html": [
              "<div>\n",
              "<style scoped>\n",
              "    .dataframe tbody tr th:only-of-type {\n",
              "        vertical-align: middle;\n",
              "    }\n",
              "\n",
              "    .dataframe tbody tr th {\n",
              "        vertical-align: top;\n",
              "    }\n",
              "\n",
              "    .dataframe thead th {\n",
              "        text-align: right;\n",
              "    }\n",
              "</style>\n",
              "<table border=\"1\" class=\"dataframe\">\n",
              "  <thead>\n",
              "    <tr style=\"text-align: right;\">\n",
              "      <th></th>\n",
              "      <th>Date</th>\n",
              "      <th>Open</th>\n",
              "      <th>High</th>\n",
              "      <th>Low</th>\n",
              "      <th>Close</th>\n",
              "      <th>Volume</th>\n",
              "    </tr>\n",
              "  </thead>\n",
              "  <tbody>\n",
              "    <tr>\n",
              "      <th>0</th>\n",
              "      <td>2019-03-03</td>\n",
              "      <td>3785.00</td>\n",
              "      <td>3807.5</td>\n",
              "      <td>3672.00</td>\n",
              "      <td>3701.50</td>\n",
              "      <td>14750.526772</td>\n",
              "    </tr>\n",
              "    <tr>\n",
              "      <th>1</th>\n",
              "      <td>2019-03-04</td>\n",
              "      <td>3701.50</td>\n",
              "      <td>3871.0</td>\n",
              "      <td>3696.25</td>\n",
              "      <td>3847.00</td>\n",
              "      <td>15402.647065</td>\n",
              "    </tr>\n",
              "    <tr>\n",
              "      <th>2</th>\n",
              "      <td>2019-03-05</td>\n",
              "      <td>3846.75</td>\n",
              "      <td>3891.0</td>\n",
              "      <td>3810.75</td>\n",
              "      <td>3852.00</td>\n",
              "      <td>10144.325751</td>\n",
              "    </tr>\n",
              "    <tr>\n",
              "      <th>3</th>\n",
              "      <td>2019-03-06</td>\n",
              "      <td>3852.00</td>\n",
              "      <td>3892.0</td>\n",
              "      <td>3835.00</td>\n",
              "      <td>3856.50</td>\n",
              "      <td>11779.437836</td>\n",
              "    </tr>\n",
              "    <tr>\n",
              "      <th>4</th>\n",
              "      <td>2019-03-07</td>\n",
              "      <td>3856.25</td>\n",
              "      <td>3910.5</td>\n",
              "      <td>3770.00</td>\n",
              "      <td>3842.75</td>\n",
              "      <td>16222.042465</td>\n",
              "    </tr>\n",
              "    <tr>\n",
              "      <th>...</th>\n",
              "      <td>...</td>\n",
              "      <td>...</td>\n",
              "      <td>...</td>\n",
              "      <td>...</td>\n",
              "      <td>...</td>\n",
              "      <td>...</td>\n",
              "    </tr>\n",
              "    <tr>\n",
              "      <th>695</th>\n",
              "      <td>2021-01-26</td>\n",
              "      <td>32515.00</td>\n",
              "      <td>32594.0</td>\n",
              "      <td>29201.00</td>\n",
              "      <td>30393.50</td>\n",
              "      <td>39749.063709</td>\n",
              "    </tr>\n",
              "    <tr>\n",
              "      <th>696</th>\n",
              "      <td>2021-01-27</td>\n",
              "      <td>30399.00</td>\n",
              "      <td>33800.0</td>\n",
              "      <td>29846.50</td>\n",
              "      <td>33447.00</td>\n",
              "      <td>34292.454392</td>\n",
              "    </tr>\n",
              "    <tr>\n",
              "      <th>697</th>\n",
              "      <td>2021-01-28</td>\n",
              "      <td>33456.00</td>\n",
              "      <td>38711.0</td>\n",
              "      <td>31990.00</td>\n",
              "      <td>34278.50</td>\n",
              "      <td>91823.512493</td>\n",
              "    </tr>\n",
              "    <tr>\n",
              "      <th>698</th>\n",
              "      <td>2021-01-29</td>\n",
              "      <td>34283.50</td>\n",
              "      <td>34964.0</td>\n",
              "      <td>32850.50</td>\n",
              "      <td>34324.50</td>\n",
              "      <td>26904.724373</td>\n",
              "    </tr>\n",
              "    <tr>\n",
              "      <th>699</th>\n",
              "      <td>2021-01-30</td>\n",
              "      <td>34323.00</td>\n",
              "      <td>34388.5</td>\n",
              "      <td>32181.00</td>\n",
              "      <td>32387.00</td>\n",
              "      <td>16270.847107</td>\n",
              "    </tr>\n",
              "  </tbody>\n",
              "</table>\n",
              "<p>700 rows × 6 columns</p>\n",
              "</div>"
            ],
            "text/plain": [
              "          Date      Open     High       Low     Close        Volume\n",
              "0   2019-03-03   3785.00   3807.5   3672.00   3701.50  14750.526772\n",
              "1   2019-03-04   3701.50   3871.0   3696.25   3847.00  15402.647065\n",
              "2   2019-03-05   3846.75   3891.0   3810.75   3852.00  10144.325751\n",
              "3   2019-03-06   3852.00   3892.0   3835.00   3856.50  11779.437836\n",
              "4   2019-03-07   3856.25   3910.5   3770.00   3842.75  16222.042465\n",
              "..         ...       ...      ...       ...       ...           ...\n",
              "695 2021-01-26  32515.00  32594.0  29201.00  30393.50  39749.063709\n",
              "696 2021-01-27  30399.00  33800.0  29846.50  33447.00  34292.454392\n",
              "697 2021-01-28  33456.00  38711.0  31990.00  34278.50  91823.512493\n",
              "698 2021-01-29  34283.50  34964.0  32850.50  34324.50  26904.724373\n",
              "699 2021-01-30  34323.00  34388.5  32181.00  32387.00  16270.847107\n",
              "\n",
              "[700 rows x 6 columns]"
            ]
          },
          "metadata": {
            "tags": []
          },
          "execution_count": 19
        }
      ]
    },
    {
      "cell_type": "code",
      "metadata": {
        "id": "O82-OgvinWG0"
      },
      "source": [
        "df.to_csv(\"BTC-PERPETUAL\")"
      ],
      "execution_count": null,
      "outputs": []
    }
  ]
}