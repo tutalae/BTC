{
  "nbformat": 4,
  "nbformat_minor": 0,
  "metadata": {
    "colab": {
      "name": "Corr_.ipynb",
      "provenance": [],
      "authorship_tag": "ABX9TyP9+W5qCIUymnfhXyv9yynn",
      "include_colab_link": true
    },
    "kernelspec": {
      "name": "python3",
      "display_name": "Python 3"
    },
    "language_info": {
      "name": "python"
    }
  },
  "cells": [
    {
      "cell_type": "markdown",
      "metadata": {
        "id": "view-in-github",
        "colab_type": "text"
      },
      "source": [
        "<a href=\"https://colab.research.google.com/github/tutalae/BTC/blob/master/Corr_.ipynb\" target=\"_parent\"><img src=\"https://colab.research.google.com/assets/colab-badge.svg\" alt=\"Open In Colab\"/></a>"
      ]
    },
    {
      "cell_type": "markdown",
      "metadata": {
        "id": "xNc_ghVRKB9A"
      },
      "source": [
        "How to create a stock correlation matrix in python\n",
        "from\n",
        "https://medium.com/analytics-vidhya/how-to-create-a-stock-correlation-matrix-in-python-4f32f8cb5b50"
      ]
    },
    {
      "cell_type": "code",
      "metadata": {
        "id": "qDjisEFYKCuF"
      },
      "source": [
        "#Import the libraries\n",
        "import numpy as np \n",
        "import pandas as pd \n",
        "# Used to grab the stock prices, with yahoo \n",
        "import pandas_datareader as web \n",
        "from datetime import datetime \n",
        "# To visualize the results \n",
        "import matplotlib.pyplot as plt \n",
        "import seaborn"
      ],
      "execution_count": 2,
      "outputs": []
    },
    {
      "cell_type": "code",
      "metadata": {
        "id": "s2YoeO9pKQBR"
      },
      "source": [
        "#Select the list of tickers and select the daterange\n",
        "start = datetime(2012, 1, 1)\n",
        "symbols_list = ['EURUSD=X', 'USDJPY=X', 'GBPUSD=X',\"AUDUSD=X\" , 'USDCAD=X', 'USDCHF=X', 'NZDUSD=X', 'EURJPY=X', 'GBPJPY=X', \n",
        "                'EURGBP=X', 'AUDJPY=X']\n",
        "#array to store prices\n",
        "symbols=[]"
      ],
      "execution_count": 58,
      "outputs": []
    },
    {
      "cell_type": "code",
      "metadata": {
        "colab": {
          "base_uri": "https://localhost:8080/",
          "height": 312
        },
        "id": "HsL9hozeKfqz",
        "outputId": "646c1606-a16e-46ee-e127-1c776b736af6"
      },
      "source": [
        "#Pull stock prices, push into clean dataframe\n",
        "#array to store prices\n",
        "symbols=[]\n",
        "for ticker in symbols_list:     \n",
        "    r = web.DataReader(ticker, 'yahoo', start)   \n",
        "    # add a symbol column   \n",
        "    r['Symbol'] = ticker    \n",
        "    symbols.append(r)\n",
        "# concatenate into df\n",
        "df = pd.concat(symbols)\n",
        "df = df.reset_index()\n",
        "df = df[['Date', 'Close', 'Symbol']]\n",
        "df.head()\n",
        "df_pivot=df.pivot('Date','Symbol','Close').reset_index()\n",
        "df_pivot.head()"
      ],
      "execution_count": 59,
      "outputs": [
        {
          "output_type": "execute_result",
          "data": {
            "text/html": [
              "<div>\n",
              "<style scoped>\n",
              "    .dataframe tbody tr th:only-of-type {\n",
              "        vertical-align: middle;\n",
              "    }\n",
              "\n",
              "    .dataframe tbody tr th {\n",
              "        vertical-align: top;\n",
              "    }\n",
              "\n",
              "    .dataframe thead th {\n",
              "        text-align: right;\n",
              "    }\n",
              "</style>\n",
              "<table border=\"1\" class=\"dataframe\">\n",
              "  <thead>\n",
              "    <tr style=\"text-align: right;\">\n",
              "      <th>Symbol</th>\n",
              "      <th>Date</th>\n",
              "      <th>AUDJPY=X</th>\n",
              "      <th>AUDUSD=X</th>\n",
              "      <th>EURGBP=X</th>\n",
              "      <th>EURJPY=X</th>\n",
              "      <th>EURUSD=X</th>\n",
              "      <th>GBPJPY=X</th>\n",
              "      <th>GBPUSD=X</th>\n",
              "      <th>NZDUSD=X</th>\n",
              "      <th>USDCAD=X</th>\n",
              "      <th>USDCHF=X</th>\n",
              "      <th>USDJPY=X</th>\n",
              "    </tr>\n",
              "  </thead>\n",
              "  <tbody>\n",
              "    <tr>\n",
              "      <th>0</th>\n",
              "      <td>2012-01-02</td>\n",
              "      <td>78.419998</td>\n",
              "      <td>1.020804</td>\n",
              "      <td>0.8331</td>\n",
              "      <td>99.610001</td>\n",
              "      <td>1.296008</td>\n",
              "      <td>119.519997</td>\n",
              "      <td>1.551205</td>\n",
              "      <td>0.778695</td>\n",
              "      <td>1.0209</td>\n",
              "      <td>0.9381</td>\n",
              "      <td>77.019997</td>\n",
              "    </tr>\n",
              "    <tr>\n",
              "      <th>1</th>\n",
              "      <td>2012-01-03</td>\n",
              "      <td>78.853104</td>\n",
              "      <td>1.025399</td>\n",
              "      <td>0.8336</td>\n",
              "      <td>99.531998</td>\n",
              "      <td>1.294096</td>\n",
              "      <td>119.370003</td>\n",
              "      <td>1.552000</td>\n",
              "      <td>0.781006</td>\n",
              "      <td>1.0174</td>\n",
              "      <td>0.9394</td>\n",
              "      <td>76.930000</td>\n",
              "    </tr>\n",
              "    <tr>\n",
              "      <th>2</th>\n",
              "      <td>2012-01-04</td>\n",
              "      <td>79.540001</td>\n",
              "      <td>1.037000</td>\n",
              "      <td>0.8342</td>\n",
              "      <td>100.146004</td>\n",
              "      <td>1.305602</td>\n",
              "      <td>120.010002</td>\n",
              "      <td>1.564407</td>\n",
              "      <td>0.790389</td>\n",
              "      <td>1.0111</td>\n",
              "      <td>0.9319</td>\n",
              "      <td>76.722000</td>\n",
              "    </tr>\n",
              "    <tr>\n",
              "      <th>3</th>\n",
              "      <td>2012-01-05</td>\n",
              "      <td>79.290001</td>\n",
              "      <td>1.034126</td>\n",
              "      <td>0.8284</td>\n",
              "      <td>99.190002</td>\n",
              "      <td>1.293142</td>\n",
              "      <td>119.703003</td>\n",
              "      <td>1.560939</td>\n",
              "      <td>0.786596</td>\n",
              "      <td>1.0134</td>\n",
              "      <td>0.9421</td>\n",
              "      <td>76.709999</td>\n",
              "    </tr>\n",
              "    <tr>\n",
              "      <th>4</th>\n",
              "      <td>2012-01-06</td>\n",
              "      <td>79.098701</td>\n",
              "      <td>1.025704</td>\n",
              "      <td>0.8252</td>\n",
              "      <td>98.707001</td>\n",
              "      <td>1.279607</td>\n",
              "      <td>119.570000</td>\n",
              "      <td>1.550171</td>\n",
              "      <td>0.781189</td>\n",
              "      <td>1.0196</td>\n",
              "      <td>0.9521</td>\n",
              "      <td>77.151001</td>\n",
              "    </tr>\n",
              "  </tbody>\n",
              "</table>\n",
              "</div>"
            ],
            "text/plain": [
              "Symbol       Date   AUDJPY=X  AUDUSD=X  ...  USDCAD=X  USDCHF=X   USDJPY=X\n",
              "0      2012-01-02  78.419998  1.020804  ...    1.0209    0.9381  77.019997\n",
              "1      2012-01-03  78.853104  1.025399  ...    1.0174    0.9394  76.930000\n",
              "2      2012-01-04  79.540001  1.037000  ...    1.0111    0.9319  76.722000\n",
              "3      2012-01-05  79.290001  1.034126  ...    1.0134    0.9421  76.709999\n",
              "4      2012-01-06  79.098701  1.025704  ...    1.0196    0.9521  77.151001\n",
              "\n",
              "[5 rows x 12 columns]"
            ]
          },
          "metadata": {
            "tags": []
          },
          "execution_count": 59
        }
      ]
    },
    {
      "cell_type": "code",
      "metadata": {
        "colab": {
          "base_uri": "https://localhost:8080/",
          "height": 393
        },
        "id": "g5VexQTSKmRA",
        "outputId": "01214747-a59a-42ed-e4dd-6371c0f45be8"
      },
      "source": [
        "#Now, we can run the correlation. Using the Pandas ‘corr’ function to compute the Pearson correlation coeffecient between each pair of equities\n",
        "corr_df = df_pivot.corr(method='pearson')\n",
        "#reset symbol as index (rather than 0-X)\n",
        "corr_df.head().reset_index()\n",
        "#del corr_df.index.name\n",
        "corr_df.head(10)"
      ],
      "execution_count": 60,
      "outputs": [
        {
          "output_type": "execute_result",
          "data": {
            "text/html": [
              "<div>\n",
              "<style scoped>\n",
              "    .dataframe tbody tr th:only-of-type {\n",
              "        vertical-align: middle;\n",
              "    }\n",
              "\n",
              "    .dataframe tbody tr th {\n",
              "        vertical-align: top;\n",
              "    }\n",
              "\n",
              "    .dataframe thead th {\n",
              "        text-align: right;\n",
              "    }\n",
              "</style>\n",
              "<table border=\"1\" class=\"dataframe\">\n",
              "  <thead>\n",
              "    <tr style=\"text-align: right;\">\n",
              "      <th>Symbol</th>\n",
              "      <th>AUDJPY=X</th>\n",
              "      <th>AUDUSD=X</th>\n",
              "      <th>EURGBP=X</th>\n",
              "      <th>EURJPY=X</th>\n",
              "      <th>EURUSD=X</th>\n",
              "      <th>GBPJPY=X</th>\n",
              "      <th>GBPUSD=X</th>\n",
              "      <th>NZDUSD=X</th>\n",
              "      <th>USDCAD=X</th>\n",
              "      <th>USDCHF=X</th>\n",
              "      <th>USDJPY=X</th>\n",
              "    </tr>\n",
              "    <tr>\n",
              "      <th>Symbol</th>\n",
              "      <th></th>\n",
              "      <th></th>\n",
              "      <th></th>\n",
              "      <th></th>\n",
              "      <th></th>\n",
              "      <th></th>\n",
              "      <th></th>\n",
              "      <th></th>\n",
              "      <th></th>\n",
              "      <th></th>\n",
              "      <th></th>\n",
              "    </tr>\n",
              "  </thead>\n",
              "  <tbody>\n",
              "    <tr>\n",
              "      <th>AUDJPY=X</th>\n",
              "      <td>1.000000</td>\n",
              "      <td>0.560175</td>\n",
              "      <td>-0.469271</td>\n",
              "      <td>0.556910</td>\n",
              "      <td>0.531951</td>\n",
              "      <td>0.663166</td>\n",
              "      <td>0.709602</td>\n",
              "      <td>0.707595</td>\n",
              "      <td>-0.570430</td>\n",
              "      <td>-0.335175</td>\n",
              "      <td>0.065486</td>\n",
              "    </tr>\n",
              "    <tr>\n",
              "      <th>AUDUSD=X</th>\n",
              "      <td>0.560175</td>\n",
              "      <td>1.000000</td>\n",
              "      <td>-0.217738</td>\n",
              "      <td>-0.253819</td>\n",
              "      <td>0.824703</td>\n",
              "      <td>-0.094126</td>\n",
              "      <td>0.769557</td>\n",
              "      <td>0.914786</td>\n",
              "      <td>-0.968393</td>\n",
              "      <td>-0.516173</td>\n",
              "      <td>-0.785169</td>\n",
              "    </tr>\n",
              "    <tr>\n",
              "      <th>EURGBP=X</th>\n",
              "      <td>-0.469271</td>\n",
              "      <td>-0.217738</td>\n",
              "      <td>1.000000</td>\n",
              "      <td>-0.135652</td>\n",
              "      <td>0.006115</td>\n",
              "      <td>-0.680302</td>\n",
              "      <td>-0.641168</td>\n",
              "      <td>-0.219462</td>\n",
              "      <td>0.219196</td>\n",
              "      <td>0.020146</td>\n",
              "      <td>-0.142993</td>\n",
              "    </tr>\n",
              "    <tr>\n",
              "      <th>EURJPY=X</th>\n",
              "      <td>0.556910</td>\n",
              "      <td>-0.253819</td>\n",
              "      <td>-0.135652</td>\n",
              "      <td>1.000000</td>\n",
              "      <td>0.122711</td>\n",
              "      <td>0.816087</td>\n",
              "      <td>0.185332</td>\n",
              "      <td>0.029497</td>\n",
              "      <td>0.157519</td>\n",
              "      <td>-0.173521</td>\n",
              "      <td>0.689296</td>\n",
              "    </tr>\n",
              "    <tr>\n",
              "      <th>EURUSD=X</th>\n",
              "      <td>0.531951</td>\n",
              "      <td>0.824703</td>\n",
              "      <td>0.006115</td>\n",
              "      <td>0.122711</td>\n",
              "      <td>1.000000</td>\n",
              "      <td>0.050456</td>\n",
              "      <td>0.762627</td>\n",
              "      <td>0.863707</td>\n",
              "      <td>-0.872155</td>\n",
              "      <td>-0.747646</td>\n",
              "      <td>-0.632923</td>\n",
              "    </tr>\n",
              "    <tr>\n",
              "      <th>GBPJPY=X</th>\n",
              "      <td>0.663166</td>\n",
              "      <td>-0.094126</td>\n",
              "      <td>-0.680302</td>\n",
              "      <td>0.816087</td>\n",
              "      <td>0.050456</td>\n",
              "      <td>1.000000</td>\n",
              "      <td>0.482528</td>\n",
              "      <td>0.112839</td>\n",
              "      <td>0.022962</td>\n",
              "      <td>-0.124826</td>\n",
              "      <td>0.618278</td>\n",
              "    </tr>\n",
              "    <tr>\n",
              "      <th>GBPUSD=X</th>\n",
              "      <td>0.709602</td>\n",
              "      <td>0.769557</td>\n",
              "      <td>-0.641168</td>\n",
              "      <td>0.185332</td>\n",
              "      <td>0.762627</td>\n",
              "      <td>0.482528</td>\n",
              "      <td>1.000000</td>\n",
              "      <td>0.800923</td>\n",
              "      <td>-0.808171</td>\n",
              "      <td>-0.590916</td>\n",
              "      <td>-0.389639</td>\n",
              "    </tr>\n",
              "    <tr>\n",
              "      <th>NZDUSD=X</th>\n",
              "      <td>0.707595</td>\n",
              "      <td>0.914786</td>\n",
              "      <td>-0.219462</td>\n",
              "      <td>0.029497</td>\n",
              "      <td>0.863707</td>\n",
              "      <td>0.112839</td>\n",
              "      <td>0.800923</td>\n",
              "      <td>1.000000</td>\n",
              "      <td>-0.907996</td>\n",
              "      <td>-0.603394</td>\n",
              "      <td>-0.597348</td>\n",
              "    </tr>\n",
              "    <tr>\n",
              "      <th>USDCAD=X</th>\n",
              "      <td>-0.570430</td>\n",
              "      <td>-0.968393</td>\n",
              "      <td>0.219196</td>\n",
              "      <td>0.157519</td>\n",
              "      <td>-0.872155</td>\n",
              "      <td>0.022962</td>\n",
              "      <td>-0.808171</td>\n",
              "      <td>-0.907996</td>\n",
              "      <td>1.000000</td>\n",
              "      <td>0.573977</td>\n",
              "      <td>0.747111</td>\n",
              "    </tr>\n",
              "    <tr>\n",
              "      <th>USDCHF=X</th>\n",
              "      <td>-0.335175</td>\n",
              "      <td>-0.516173</td>\n",
              "      <td>0.020146</td>\n",
              "      <td>-0.173521</td>\n",
              "      <td>-0.747646</td>\n",
              "      <td>-0.124826</td>\n",
              "      <td>-0.590916</td>\n",
              "      <td>-0.603394</td>\n",
              "      <td>0.573977</td>\n",
              "      <td>1.000000</td>\n",
              "      <td>0.411512</td>\n",
              "    </tr>\n",
              "  </tbody>\n",
              "</table>\n",
              "</div>"
            ],
            "text/plain": [
              "Symbol    AUDJPY=X  AUDUSD=X  EURGBP=X  ...  USDCAD=X  USDCHF=X  USDJPY=X\n",
              "Symbol                                  ...                              \n",
              "AUDJPY=X  1.000000  0.560175 -0.469271  ... -0.570430 -0.335175  0.065486\n",
              "AUDUSD=X  0.560175  1.000000 -0.217738  ... -0.968393 -0.516173 -0.785169\n",
              "EURGBP=X -0.469271 -0.217738  1.000000  ...  0.219196  0.020146 -0.142993\n",
              "EURJPY=X  0.556910 -0.253819 -0.135652  ...  0.157519 -0.173521  0.689296\n",
              "EURUSD=X  0.531951  0.824703  0.006115  ... -0.872155 -0.747646 -0.632923\n",
              "GBPJPY=X  0.663166 -0.094126 -0.680302  ...  0.022962 -0.124826  0.618278\n",
              "GBPUSD=X  0.709602  0.769557 -0.641168  ... -0.808171 -0.590916 -0.389639\n",
              "NZDUSD=X  0.707595  0.914786 -0.219462  ... -0.907996 -0.603394 -0.597348\n",
              "USDCAD=X -0.570430 -0.968393  0.219196  ...  1.000000  0.573977  0.747111\n",
              "USDCHF=X -0.335175 -0.516173  0.020146  ...  0.573977  1.000000  0.411512\n",
              "\n",
              "[10 rows x 11 columns]"
            ]
          },
          "metadata": {
            "tags": []
          },
          "execution_count": 60
        }
      ]
    },
    {
      "cell_type": "code",
      "metadata": {
        "colab": {
          "base_uri": "https://localhost:8080/",
          "height": 441
        },
        "id": "-3GfxvpCKz-M",
        "outputId": "1feba8cf-f99b-4d8f-bf2b-5381c2261daf"
      },
      "source": [
        "# Finally, we can plot a heatmap of the correlations (with Seaborn and Matplotlib) to better visualize the results:\n",
        "fig, ax = plt.subplots(figsize=(6,6)) \n",
        "ax = seaborn.heatmap(corr_df, annot=True, cmap=\"RdYlGn\")"
      ],
      "execution_count": 61,
      "outputs": [
        {
          "output_type": "display_data",
          "data": {
            "image/png": "[encoded data removed]",
            "text/plain": [
              "<Figure size 432x432 with 2 Axes>"
            ]
          },
          "metadata": {
            "tags": [],
            "needs_background": "light"
          }
        }
      ]
    },
    {
      "cell_type": "code",
      "metadata": {
        "colab": {
          "base_uri": "https://localhost:8080/",
          "height": 205
        },
        "id": "cwlyPCVbOv0c",
        "outputId": "e7294497-620f-440b-ef0e-c0893b2a2ffc"
      },
      "source": [
        "corr_df.nlargest(4, \"AUDUSD=X\")"
      ],
      "execution_count": 62,
      "outputs": [
        {
          "output_type": "execute_result",
          "data": {
            "text/html": [
              "<div>\n",
              "<style scoped>\n",
              "    .dataframe tbody tr th:only-of-type {\n",
              "        vertical-align: middle;\n",
              "    }\n",
              "\n",
              "    .dataframe tbody tr th {\n",
              "        vertical-align: top;\n",
              "    }\n",
              "\n",
              "    .dataframe thead th {\n",
              "        text-align: right;\n",
              "    }\n",
              "</style>\n",
              "<table border=\"1\" class=\"dataframe\">\n",
              "  <thead>\n",
              "    <tr style=\"text-align: right;\">\n",
              "      <th>Symbol</th>\n",
              "      <th>AUDJPY=X</th>\n",
              "      <th>AUDUSD=X</th>\n",
              "      <th>EURGBP=X</th>\n",
              "      <th>EURJPY=X</th>\n",
              "      <th>EURUSD=X</th>\n",
              "      <th>GBPJPY=X</th>\n",
              "      <th>GBPUSD=X</th>\n",
              "      <th>NZDUSD=X</th>\n",
              "      <th>USDCAD=X</th>\n",
              "      <th>USDCHF=X</th>\n",
              "      <th>USDJPY=X</th>\n",
              "    </tr>\n",
              "    <tr>\n",
              "      <th>Symbol</th>\n",
              "      <th></th>\n",
              "      <th></th>\n",
              "      <th></th>\n",
              "      <th></th>\n",
              "      <th></th>\n",
              "      <th></th>\n",
              "      <th></th>\n",
              "      <th></th>\n",
              "      <th></th>\n",
              "      <th></th>\n",
              "      <th></th>\n",
              "    </tr>\n",
              "  </thead>\n",
              "  <tbody>\n",
              "    <tr>\n",
              "      <th>AUDUSD=X</th>\n",
              "      <td>0.560175</td>\n",
              "      <td>1.000000</td>\n",
              "      <td>-0.217738</td>\n",
              "      <td>-0.253819</td>\n",
              "      <td>0.824703</td>\n",
              "      <td>-0.094126</td>\n",
              "      <td>0.769557</td>\n",
              "      <td>0.914786</td>\n",
              "      <td>-0.968393</td>\n",
              "      <td>-0.516173</td>\n",
              "      <td>-0.785169</td>\n",
              "    </tr>\n",
              "    <tr>\n",
              "      <th>NZDUSD=X</th>\n",
              "      <td>0.707595</td>\n",
              "      <td>0.914786</td>\n",
              "      <td>-0.219462</td>\n",
              "      <td>0.029497</td>\n",
              "      <td>0.863707</td>\n",
              "      <td>0.112839</td>\n",
              "      <td>0.800923</td>\n",
              "      <td>1.000000</td>\n",
              "      <td>-0.907996</td>\n",
              "      <td>-0.603394</td>\n",
              "      <td>-0.597348</td>\n",
              "    </tr>\n",
              "    <tr>\n",
              "      <th>EURUSD=X</th>\n",
              "      <td>0.531951</td>\n",
              "      <td>0.824703</td>\n",
              "      <td>0.006115</td>\n",
              "      <td>0.122711</td>\n",
              "      <td>1.000000</td>\n",
              "      <td>0.050456</td>\n",
              "      <td>0.762627</td>\n",
              "      <td>0.863707</td>\n",
              "      <td>-0.872155</td>\n",
              "      <td>-0.747646</td>\n",
              "      <td>-0.632923</td>\n",
              "    </tr>\n",
              "    <tr>\n",
              "      <th>GBPUSD=X</th>\n",
              "      <td>0.709602</td>\n",
              "      <td>0.769557</td>\n",
              "      <td>-0.641168</td>\n",
              "      <td>0.185332</td>\n",
              "      <td>0.762627</td>\n",
              "      <td>0.482528</td>\n",
              "      <td>1.000000</td>\n",
              "      <td>0.800923</td>\n",
              "      <td>-0.808171</td>\n",
              "      <td>-0.590916</td>\n",
              "      <td>-0.389639</td>\n",
              "    </tr>\n",
              "  </tbody>\n",
              "</table>\n",
              "</div>"
            ],
            "text/plain": [
              "Symbol    AUDJPY=X  AUDUSD=X  EURGBP=X  ...  USDCAD=X  USDCHF=X  USDJPY=X\n",
              "Symbol                                  ...                              \n",
              "AUDUSD=X  0.560175  1.000000 -0.217738  ... -0.968393 -0.516173 -0.785169\n",
              "NZDUSD=X  0.707595  0.914786 -0.219462  ... -0.907996 -0.603394 -0.597348\n",
              "EURUSD=X  0.531951  0.824703  0.006115  ... -0.872155 -0.747646 -0.632923\n",
              "GBPUSD=X  0.709602  0.769557 -0.641168  ... -0.808171 -0.590916 -0.389639\n",
              "\n",
              "[4 rows x 11 columns]"
            ]
          },
          "metadata": {
            "tags": []
          },
          "execution_count": 62
        }
      ]
    },
    {
      "cell_type": "code",
      "metadata": {
        "colab": {
          "base_uri": "https://localhost:8080/",
          "height": 205
        },
        "id": "HlSBEBRIQFTe",
        "outputId": "4faa1ac9-c582-4a1f-a4cd-d77b09925bce"
      },
      "source": [
        "corr_df.nlargest(4, \"USDCAD=X\")"
      ],
      "execution_count": 63,
      "outputs": [
        {
          "output_type": "execute_result",
          "data": {
            "text/html": [
              "<div>\n",
              "<style scoped>\n",
              "    .dataframe tbody tr th:only-of-type {\n",
              "        vertical-align: middle;\n",
              "    }\n",
              "\n",
              "    .dataframe tbody tr th {\n",
              "        vertical-align: top;\n",
              "    }\n",
              "\n",
              "    .dataframe thead th {\n",
              "        text-align: right;\n",
              "    }\n",
              "</style>\n",
              "<table border=\"1\" class=\"dataframe\">\n",
              "  <thead>\n",
              "    <tr style=\"text-align: right;\">\n",
              "      <th>Symbol</th>\n",
              "      <th>AUDJPY=X</th>\n",
              "      <th>AUDUSD=X</th>\n",
              "      <th>EURGBP=X</th>\n",
              "      <th>EURJPY=X</th>\n",
              "      <th>EURUSD=X</th>\n",
              "      <th>GBPJPY=X</th>\n",
              "      <th>GBPUSD=X</th>\n",
              "      <th>NZDUSD=X</th>\n",
              "      <th>USDCAD=X</th>\n",
              "      <th>USDCHF=X</th>\n",
              "      <th>USDJPY=X</th>\n",
              "    </tr>\n",
              "    <tr>\n",
              "      <th>Symbol</th>\n",
              "      <th></th>\n",
              "      <th></th>\n",
              "      <th></th>\n",
              "      <th></th>\n",
              "      <th></th>\n",
              "      <th></th>\n",
              "      <th></th>\n",
              "      <th></th>\n",
              "      <th></th>\n",
              "      <th></th>\n",
              "      <th></th>\n",
              "    </tr>\n",
              "  </thead>\n",
              "  <tbody>\n",
              "    <tr>\n",
              "      <th>USDCAD=X</th>\n",
              "      <td>-0.570430</td>\n",
              "      <td>-0.968393</td>\n",
              "      <td>0.219196</td>\n",
              "      <td>0.157519</td>\n",
              "      <td>-0.872155</td>\n",
              "      <td>0.022962</td>\n",
              "      <td>-0.808171</td>\n",
              "      <td>-0.907996</td>\n",
              "      <td>1.000000</td>\n",
              "      <td>0.573977</td>\n",
              "      <td>0.747111</td>\n",
              "    </tr>\n",
              "    <tr>\n",
              "      <th>USDJPY=X</th>\n",
              "      <td>0.065486</td>\n",
              "      <td>-0.785169</td>\n",
              "      <td>-0.142993</td>\n",
              "      <td>0.689296</td>\n",
              "      <td>-0.632923</td>\n",
              "      <td>0.618278</td>\n",
              "      <td>-0.389639</td>\n",
              "      <td>-0.597348</td>\n",
              "      <td>0.747111</td>\n",
              "      <td>0.411512</td>\n",
              "      <td>1.000000</td>\n",
              "    </tr>\n",
              "    <tr>\n",
              "      <th>USDCHF=X</th>\n",
              "      <td>-0.335175</td>\n",
              "      <td>-0.516173</td>\n",
              "      <td>0.020146</td>\n",
              "      <td>-0.173521</td>\n",
              "      <td>-0.747646</td>\n",
              "      <td>-0.124826</td>\n",
              "      <td>-0.590916</td>\n",
              "      <td>-0.603394</td>\n",
              "      <td>0.573977</td>\n",
              "      <td>1.000000</td>\n",
              "      <td>0.411512</td>\n",
              "    </tr>\n",
              "    <tr>\n",
              "      <th>EURGBP=X</th>\n",
              "      <td>-0.469271</td>\n",
              "      <td>-0.217738</td>\n",
              "      <td>1.000000</td>\n",
              "      <td>-0.135652</td>\n",
              "      <td>0.006115</td>\n",
              "      <td>-0.680302</td>\n",
              "      <td>-0.641168</td>\n",
              "      <td>-0.219462</td>\n",
              "      <td>0.219196</td>\n",
              "      <td>0.020146</td>\n",
              "      <td>-0.142993</td>\n",
              "    </tr>\n",
              "  </tbody>\n",
              "</table>\n",
              "</div>"
            ],
            "text/plain": [
              "Symbol    AUDJPY=X  AUDUSD=X  EURGBP=X  ...  USDCAD=X  USDCHF=X  USDJPY=X\n",
              "Symbol                                  ...                              \n",
              "USDCAD=X -0.570430 -0.968393  0.219196  ...  1.000000  0.573977  0.747111\n",
              "USDJPY=X  0.065486 -0.785169 -0.142993  ...  0.747111  0.411512  1.000000\n",
              "USDCHF=X -0.335175 -0.516173  0.020146  ...  0.573977  1.000000  0.411512\n",
              "EURGBP=X -0.469271 -0.217738  1.000000  ...  0.219196  0.020146 -0.142993\n",
              "\n",
              "[4 rows x 11 columns]"
            ]
          },
          "metadata": {
            "tags": []
          },
          "execution_count": 63
        }
      ]
    },
    {
      "cell_type": "code",
      "metadata": {
        "colab": {
          "base_uri": "https://localhost:8080/"
        },
        "id": "xC1GbZkBMnlZ",
        "outputId": "67714dfc-aa03-4f29-92f0-b2ce1dc86953"
      },
      "source": [
        "corr_df.min()"
      ],
      "execution_count": 66,
      "outputs": [
        {
          "output_type": "execute_result",
          "data": {
            "text/plain": [
              "Symbol\n",
              "AUDJPY=X   -0.570430\n",
              "AUDUSD=X   -0.968393\n",
              "EURGBP=X   -0.680302\n",
              "EURJPY=X   -0.253819\n",
              "EURUSD=X   -0.872155\n",
              "GBPJPY=X   -0.680302\n",
              "GBPUSD=X   -0.808171\n",
              "NZDUSD=X   -0.907996\n",
              "USDCAD=X   -0.968393\n",
              "USDCHF=X   -0.747646\n",
              "USDJPY=X   -0.785169\n",
              "dtype: float64"
            ]
          },
          "metadata": {
            "tags": []
          },
          "execution_count": 66
        }
      ]
    },
    {
      "cell_type": "code",
      "metadata": {
        "colab": {
          "base_uri": "https://localhost:8080/",
          "height": 390
        },
        "id": "S7S2thN_K8oA",
        "outputId": "aa2f0cbf-0b1d-47c7-acfb-d7842ca0e0ec"
      },
      "source": [
        "fig, ax = plt.subplots(figsize=(10,6)) \n",
        "\n",
        "d = df_pivot[\"Date\"]\n",
        "t = df_pivot[\"AUDUSD=X\"]/df_pivot[\"AUDUSD=X\"].iloc[0]\n",
        "s = df_pivot[\"USDCAD=X\"]/df_pivot[\"USDCAD=X\"].iloc[0]\n",
        "\n",
        "plt.title(\"AUDUSD/USDCAD\")\n",
        "line, = plt.plot(d, t, lw=2, label='AUDUSD')\n",
        "line, = plt.plot(d, s, lw=2, label='USDCAD')\n",
        "plt.legend()\n",
        "plt.show()"
      ],
      "execution_count": 68,
      "outputs": [
        {
          "output_type": "display_data",
          "data": {
            "image/png": "[encoded data removed]",
            "text/plain": [
              "<Figure size 720x432 with 1 Axes>"
            ]
          },
          "metadata": {
            "tags": [],
            "needs_background": "light"
          }
        }
      ]
    },
    {
      "cell_type": "code",
      "metadata": {
        "id": "w2QXKfvSL050"
      },
      "source": [
        ""
      ],
      "execution_count": 10,
      "outputs": []
    },
    {
      "cell_type": "code",
      "metadata": {
        "colab": {
          "base_uri": "https://localhost:8080/"
        },
        "id": "WWJ-7_x4L4XQ",
        "outputId": "c366108d-cab2-48dc-8451-47106baa55c7"
      },
      "source": [
        "from numpy import unravel_index,fill_diagonal,nanargmax,nanargmin\n",
        "from bottleneck import nanmean\n",
        "\n",
        "data = {'abc':  [1, 0.2 , -0.01],\n",
        "        'xyz': [-0.34, 1, 0.23],\n",
        "        \"jkl\":[0.5, 0.4, 1]\n",
        "        }\n",
        "\n",
        "a = pd.DataFrame (data, columns = ['abc', 'xyz', 'jkl'])\n",
        "\n",
        "b = a.values.copy()\n",
        "\n",
        "fill_diagonal(b, None)\n",
        "\n",
        "imax = unravel_index(nanargmax(b), b.shape)\n",
        "imin = unravel_index(nanargmin(b), b.shape)\n",
        "print(a.index[imax[0]],a.columns[imax[1]])\n",
        "print(a.index[imin[0]],a.columns[imin[1]])\n",
        "print(nanmean(b))"
      ],
      "execution_count": 20,
      "outputs": [
        {
          "output_type": "stream",
          "text": [
            "0 jkl\n",
            "0 xyz\n",
            "0.16333333333333333\n"
          ],
          "name": "stdout"
        }
      ]
    },
    {
      "cell_type": "code",
      "metadata": {
        "colab": {
          "base_uri": "https://localhost:8080/",
          "height": 143
        },
        "id": "-JuKKsgoNcxJ",
        "outputId": "90f457fa-5e0b-4f4a-9699-e4ea3833bb84"
      },
      "source": [
        ""
      ],
      "execution_count": 21,
      "outputs": [
        {
          "output_type": "execute_result",
          "data": {
            "text/html": [
              "<div>\n",
              "<style scoped>\n",
              "    .dataframe tbody tr th:only-of-type {\n",
              "        vertical-align: middle;\n",
              "    }\n",
              "\n",
              "    .dataframe tbody tr th {\n",
              "        vertical-align: top;\n",
              "    }\n",
              "\n",
              "    .dataframe thead th {\n",
              "        text-align: right;\n",
              "    }\n",
              "</style>\n",
              "<table border=\"1\" class=\"dataframe\">\n",
              "  <thead>\n",
              "    <tr style=\"text-align: right;\">\n",
              "      <th></th>\n",
              "      <th>abc</th>\n",
              "      <th>xyz</th>\n",
              "      <th>jkl</th>\n",
              "    </tr>\n",
              "  </thead>\n",
              "  <tbody>\n",
              "    <tr>\n",
              "      <th>0</th>\n",
              "      <td>1.00</td>\n",
              "      <td>-0.34</td>\n",
              "      <td>0.5</td>\n",
              "    </tr>\n",
              "    <tr>\n",
              "      <th>1</th>\n",
              "      <td>0.20</td>\n",
              "      <td>1.00</td>\n",
              "      <td>0.4</td>\n",
              "    </tr>\n",
              "    <tr>\n",
              "      <th>2</th>\n",
              "      <td>-0.01</td>\n",
              "      <td>0.23</td>\n",
              "      <td>1.0</td>\n",
              "    </tr>\n",
              "  </tbody>\n",
              "</table>\n",
              "</div>"
            ],
            "text/plain": [
              "    abc   xyz  jkl\n",
              "0  1.00 -0.34  0.5\n",
              "1  0.20  1.00  0.4\n",
              "2 -0.01  0.23  1.0"
            ]
          },
          "metadata": {
            "tags": []
          },
          "execution_count": 21
        }
      ]
    },
    {
      "cell_type": "code",
      "metadata": {
        "id": "Cgfl9CAYOSiT"
      },
      "source": [
        ""
      ],
      "execution_count": null,
      "outputs": []
    }
  ]
}