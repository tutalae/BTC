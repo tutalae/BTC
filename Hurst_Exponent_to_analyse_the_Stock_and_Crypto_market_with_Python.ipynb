{
  "nbformat": 4,
  "nbformat_minor": 0,
  "metadata": {
    "colab": {
      "name": "Hurst Exponent to analyse the Stock and Crypto market with Python.ipynb",
      "provenance": [],
      "authorship_tag": "ABX9TyOq/jDfoxgiAUoRITblagb4",
      "include_colab_link": true
    },
    "kernelspec": {
      "name": "python3",
      "display_name": "Python 3"
    },
    "language_info": {
      "name": "python"
    }
  },
  "cells": [
    {
      "cell_type": "markdown",
      "metadata": {
        "id": "view-in-github",
        "colab_type": "text"
      },
      "source": [
        "<a href=\"https://colab.research.google.com/github/tutalae/BTC/blob/master/Hurst_Exponent_to_analyse_the_Stock_and_Crypto_market_with_Python.ipynb\" target=\"_parent\"><img src=\"https://colab.research.google.com/assets/colab-badge.svg\" alt=\"Open In Colab\"/></a>"
      ]
    },
    {
      "cell_type": "markdown",
      "metadata": {
        "id": "rW1K8PRU8M1B"
      },
      "source": [
        "The Hurst Exponent\n",
        "The Hurst exponent or also denoted by the letter ‘H’ is a measure of long-term memory of a time series where we measure the amount by which a given time series deviates from a random walk. The scalar value shows the relative tendency of a time series to cluster in a particular direction (trending pattern in both positive and negative manner) or regressing strongly to the mean (mean-reverting pattern).\n",
        "\n",
        "The various values of the Hurst exponent always range between 0 and 1 and based on the value of H we can classify the given time series as follows:\n",
        "\n",
        "\n",
        "*   H < 0.5 – Mean-Reverting ( anti-persistent ) series.A closer value to 0 means that there is a strong pattern of the mean-reversion process. In practical situations, it means that a high value will be followed by a low value next and vice versa.\n",
        "*   H = 0.5 – Geometric Random Walk . This means that it can go either way and there is no clear deduction possible from the given parameters\n",
        "*   H > 0.5 – Trending (Persistent) series. A value that is more close to 1 means that the trending pattern is strong and the trend will continue. Generally, it means that a high value will be followed by a higher value.\n",
        "\n",
        "from https://www.analyticsvidhya.com/blog/2021/06/using-hurst-exponent-to-analyse-the-stock-and-crypto-market-with-python/"
      ]
    },
    {
      "cell_type": "code",
      "metadata": {
        "colab": {
          "base_uri": "https://localhost:8080/"
        },
        "id": "MMblkUJV8z9b",
        "outputId": "fe5bfbcb-64d5-4b36-8d3a-2f7088009a12"
      },
      "source": [
        "pip install yfinance"
      ],
      "execution_count": 2,
      "outputs": [
        {
          "output_type": "stream",
          "text": [
            "Collecting yfinance\n",
            "  Downloading https://files.pythonhosted.org/packages/a7/ee/315752b9ef281ba83c62aa7ec2e2074f85223da6e7e74efb4d3e11c0f510/yfinance-0.1.59.tar.gz\n",
            "Requirement already satisfied: pandas>=0.24 in /usr/local/lib/python3.7/dist-packages (from yfinance) (1.1.5)\n",
            "Requirement already satisfied: numpy>=1.15 in /usr/local/lib/python3.7/dist-packages (from yfinance) (1.19.5)\n",
            "Requirement already satisfied: requests>=2.20 in /usr/local/lib/python3.7/dist-packages (from yfinance) (2.23.0)\n",
            "Requirement already satisfied: multitasking>=0.0.7 in /usr/local/lib/python3.7/dist-packages (from yfinance) (0.0.9)\n",
            "Collecting lxml>=4.5.1\n",
            "\u001b[?25l  Downloading https://files.pythonhosted.org/packages/30/c0/d0526314971fc661b083ab135747dc68446a3022686da8c16d25fcf6ef07/lxml-4.6.3-cp37-cp37m-manylinux2014_x86_64.whl (6.3MB)\n",
            "\u001b[K     |████████████████████████████████| 6.3MB 4.4MB/s \n",
            "\u001b[?25hRequirement already satisfied: pytz>=2017.2 in /usr/local/lib/python3.7/dist-packages (from pandas>=0.24->yfinance) (2018.9)\n",
            "Requirement already satisfied: python-dateutil>=2.7.3 in /usr/local/lib/python3.7/dist-packages (from pandas>=0.24->yfinance) (2.8.1)\n",
            "Requirement already satisfied: chardet<4,>=3.0.2 in /usr/local/lib/python3.7/dist-packages (from requests>=2.20->yfinance) (3.0.4)\n",
            "Requirement already satisfied: certifi>=2017.4.17 in /usr/local/lib/python3.7/dist-packages (from requests>=2.20->yfinance) (2021.5.30)\n",
            "Requirement already satisfied: idna<3,>=2.5 in /usr/local/lib/python3.7/dist-packages (from requests>=2.20->yfinance) (2.10)\n",
            "Requirement already satisfied: urllib3!=1.25.0,!=1.25.1,<1.26,>=1.21.1 in /usr/local/lib/python3.7/dist-packages (from requests>=2.20->yfinance) (1.24.3)\n",
            "Requirement already satisfied: six>=1.5 in /usr/local/lib/python3.7/dist-packages (from python-dateutil>=2.7.3->pandas>=0.24->yfinance) (1.15.0)\n",
            "Building wheels for collected packages: yfinance\n",
            "  Building wheel for yfinance (setup.py) ... \u001b[?25l\u001b[?25hdone\n",
            "  Created wheel for yfinance: filename=yfinance-0.1.59-py2.py3-none-any.whl size=23455 sha256=16cc85ffd9fe8546d70c6c2f6fa7e077bfd3015a6ecf3deda53cdfc128cf7b8f\n",
            "  Stored in directory: /root/.cache/pip/wheels/f8/2a/0f/4b5a86e1d52e451757eb6bc17fd899629f0925c777741b6d04\n",
            "Successfully built yfinance\n",
            "Installing collected packages: lxml, yfinance\n",
            "  Found existing installation: lxml 4.2.6\n",
            "    Uninstalling lxml-4.2.6:\n",
            "      Successfully uninstalled lxml-4.2.6\n",
            "Successfully installed lxml-4.6.3 yfinance-0.1.59\n"
          ],
          "name": "stdout"
        }
      ]
    },
    {
      "cell_type": "code",
      "metadata": {
        "id": "WYVIbmDs8PwJ"
      },
      "source": [
        "import yfinance as yf\n",
        "import numpy as np\n",
        "import pandas as pd"
      ],
      "execution_count": 3,
      "outputs": []
    },
    {
      "cell_type": "code",
      "metadata": {
        "colab": {
          "base_uri": "https://localhost:8080/",
          "height": 285
        },
        "id": "iNKm7Za-8vP_",
        "outputId": "e077cc0a-68f9-4641-a061-03c59c34366c"
      },
      "source": [
        "spy_df = yf.download(\"GOOGL\", \n",
        "\n",
        "                     start=\"2010-01-01\", \n",
        "\n",
        "                     end=\"2020-12-31\", \n",
        "\n",
        "                     progress=False)\n",
        "\n",
        "spy_df[\"Adj Close\"].plot(title=\"Google\");"
      ],
      "execution_count": 4,
      "outputs": [
        {
          "output_type": "display_data",
          "data": {
            "image/png": "[encoded data removed]",
            "text/plain": [
              "<Figure size 432x288 with 1 Axes>"
            ]
          },
          "metadata": {
            "tags": [],
            "needs_background": "light"
          }
        }
      ]
    },
    {
      "cell_type": "code",
      "metadata": {
        "colab": {
          "base_uri": "https://localhost:8080/",
          "height": 298
        },
        "id": "P4lo-Y4Z86o7",
        "outputId": "20c7f2dd-62ad-4400-c30e-f4b077688f84"
      },
      "source": [
        "sample_size = 1000\n",
        "scalar = 100\n",
        "np.random.seed(123)\n",
        "df = pd.DataFrame(data={\"mean_rev\": np.log(np.random.randn(sample_size) + scalar),\n",
        "                        \"gbm\": np.log(np.cumsum(np.random.randn(sample_size)) + scalar),\n",
        "                        \"trending\": np.log(np.cumsum(np.random.randn(sample_size) + 1) + scalar)})\n",
        "df.plot(title=\"Generated time series\")"
      ],
      "execution_count": 5,
      "outputs": [
        {
          "output_type": "execute_result",
          "data": {
            "text/plain": [
              "<matplotlib.axes._subplots.AxesSubplot at 0x7f6b968efcd0>"
            ]
          },
          "metadata": {
            "tags": []
          },
          "execution_count": 5
        },
        {
          "output_type": "display_data",
          "data": {
            "image/png": "[encoded data removed]",
            "text/plain": [
              "<Figure size 432x288 with 1 Axes>"
            ]
          },
          "metadata": {
            "tags": [],
            "needs_background": "light"
          }
        }
      ]
    },
    {
      "cell_type": "code",
      "metadata": {
        "id": "HkCxgE1A8_7N"
      },
      "source": [
        "def get_hurst_exponent(time_series, max_lag=20):\n",
        "    \"\"\"Returns the Hurst Exponent of the time series\"\"\"\n",
        "    lags = range(2, max_lag)\n",
        "    # variances of the lagged differences\n",
        "    tau = [np.std(np.subtract(time_series[lag:], time_series[:-lag])) for lag in lags]\n",
        "    # calculate the slope of the log plot -> the Hurst Exponent\n",
        "    reg = np.polyfit(np.log(lags), np.log(tau), 1)\n",
        "    return reg[0]"
      ],
      "execution_count": 6,
      "outputs": []
    },
    {
      "cell_type": "code",
      "metadata": {
        "colab": {
          "base_uri": "https://localhost:8080/"
        },
        "id": "Aey501NZ9IJ-",
        "outputId": "6e8e8ea1-7246-4d82-983b-098f8b748633"
      },
      "source": [
        "for lag in [5, 10, 20, 100, 300, 500, 1000, 2000, 2700]:\n",
        "    hurst_exp = get_hurst_exponent(spy_df[\"Adj Close\"].values, lag)\n",
        "    print(f\"Hurst exponent with {lag} lags: {hurst_exp:.4f}\")"
      ],
      "execution_count": 7,
      "outputs": [
        {
          "output_type": "stream",
          "text": [
            "Hurst exponent with 5 lags: 0.4790\n",
            "Hurst exponent with 10 lags: 0.4723\n",
            "Hurst exponent with 20 lags: 0.4767\n",
            "Hurst exponent with 100 lags: 0.3821\n",
            "Hurst exponent with 300 lags: 0.2861\n",
            "Hurst exponent with 500 lags: 0.2642\n",
            "Hurst exponent with 1000 lags: 0.2399\n",
            "Hurst exponent with 2000 lags: 0.2402\n",
            "Hurst exponent with 2700 lags: 0.2211\n"
          ],
          "name": "stdout"
        }
      ]
    },
    {
      "cell_type": "markdown",
      "metadata": {
        "id": "7d_c3kYH9oLw"
      },
      "source": [
        "the increase of the lag value, the mean-reversion is getting stronger as the value is decreasing towards 0."
      ]
    },
    {
      "cell_type": "code",
      "metadata": {
        "colab": {
          "base_uri": "https://localhost:8080/"
        },
        "id": "U1h3Z-sK9KG3",
        "outputId": "9084c2ab-d5af-47bc-b194-3b966730c362"
      },
      "source": [
        "for lag in [5, 10, 20, 100, 300, 500]:\n",
        "    print(f\"Hurst exponents with {lag} lags ----\")\n",
        "    for column in df.columns:\n",
        "        print(f\"{column}: {get_hurst_exponent(df.values, lag):.4f}\")"
      ],
      "execution_count": 9,
      "outputs": [
        {
          "output_type": "stream",
          "text": [
            "Hurst exponents with 5 lags ----\n",
            "mean_rev: 0.3282\n",
            "gbm: 0.3282\n",
            "trending: 0.3282\n",
            "Hurst exponents with 10 lags ----\n",
            "mean_rev: 0.4345\n",
            "gbm: 0.4345\n",
            "trending: 0.4345\n",
            "Hurst exponents with 20 lags ----\n",
            "mean_rev: 0.5488\n",
            "gbm: 0.5488\n",
            "trending: 0.5488\n",
            "Hurst exponents with 100 lags ----\n",
            "mean_rev: 0.7319\n",
            "gbm: 0.7319\n",
            "trending: 0.7319\n",
            "Hurst exponents with 300 lags ----\n",
            "mean_rev: 0.7712\n",
            "gbm: 0.7712\n",
            "trending: 0.7712\n",
            "Hurst exponents with 500 lags ----\n",
            "mean_rev: 0.7683\n",
            "gbm: 0.7683\n",
            "trending: 0.7683\n"
          ],
          "name": "stdout"
        }
      ]
    },
    {
      "cell_type": "code",
      "metadata": {
        "id": "_OvQBDT09Oi9"
      },
      "source": [
        ""
      ],
      "execution_count": null,
      "outputs": []
    }
  ]
}