{
  "nbformat": 4,
  "nbformat_minor": 0,
  "metadata": {
    "colab": {
      "name": "Lending.ipynb",
      "provenance": [],
      "collapsed_sections": [],
      "authorship_tag": "ABX9TyPCvzeIkN8IItj+ZPjcE7zf",
      "include_colab_link": true
    },
    "kernelspec": {
      "name": "python3",
      "display_name": "Python 3"
    },
    "language_info": {
      "name": "python"
    }
  },
  "cells": [
    {
      "cell_type": "markdown",
      "metadata": {
        "id": "view-in-github",
        "colab_type": "text"
      },
      "source": [
        "<a href=\"https://colab.research.google.com/github/tutalae/BTC/blob/master/Lending.ipynb\" target=\"_parent\"><img src=\"https://colab.research.google.com/assets/colab-badge.svg\" alt=\"Open In Colab\"/></a>"
      ]
    },
    {
      "cell_type": "code",
      "metadata": {
        "colab": {
          "base_uri": "https://localhost:8080/"
        },
        "id": "zifAYBQgfzcD",
        "outputId": "fcbe7724-62b2-4891-84ac-7626fbd8e587"
      },
      "source": [
        "pip install ftx"
      ],
      "execution_count": 1,
      "outputs": [
        {
          "output_type": "stream",
          "text": [
            "Requirement already satisfied: ftx in /usr/local/lib/python3.7/dist-packages (1.0.2)\n",
            "Requirement already satisfied: schedule==0.6.0 in /usr/local/lib/python3.7/dist-packages (from ftx) (0.6.0)\n",
            "Requirement already satisfied: satoshi==0.1.3 in /usr/local/lib/python3.7/dist-packages (from ftx) (0.1.3)\n",
            "Requirement already satisfied: requests==2.23.0 in /usr/local/lib/python3.7/dist-packages (from ftx) (2.23.0)\n",
            "Requirement already satisfied: urllib3!=1.25.0,!=1.25.1,<1.26,>=1.21.1 in /usr/local/lib/python3.7/dist-packages (from requests==2.23.0->ftx) (1.24.3)\n",
            "Requirement already satisfied: certifi>=2017.4.17 in /usr/local/lib/python3.7/dist-packages (from requests==2.23.0->ftx) (2020.12.5)\n",
            "Requirement already satisfied: idna<3,>=2.5 in /usr/local/lib/python3.7/dist-packages (from requests==2.23.0->ftx) (2.10)\n",
            "Requirement already satisfied: chardet<4,>=3.0.2 in /usr/local/lib/python3.7/dist-packages (from requests==2.23.0->ftx) (3.0.4)\n"
          ],
          "name": "stdout"
        }
      ]
    },
    {
      "cell_type": "code",
      "metadata": {
        "colab": {
          "base_uri": "https://localhost:8080/"
        },
        "id": "3yjTeu7LgfDH",
        "outputId": "598666c6-d60b-458d-d440-c425d76b9538"
      },
      "source": [
        "pip install ciso8601"
      ],
      "execution_count": 2,
      "outputs": [
        {
          "output_type": "stream",
          "text": [
            "Requirement already satisfied: ciso8601 in /usr/local/lib/python3.7/dist-packages (2.1.3)\n"
          ],
          "name": "stdout"
        }
      ]
    },
    {
      "cell_type": "code",
      "metadata": {
        "colab": {
          "base_uri": "https://localhost:8080/"
        },
        "id": "iIziglL3gk7R",
        "outputId": "129de4d0-473f-4f6e-a939-6558ad456f7a"
      },
      "source": [
        "pip install ccxt"
      ],
      "execution_count": 3,
      "outputs": [
        {
          "output_type": "stream",
          "text": [
            "Requirement already satisfied: ccxt in /usr/local/lib/python3.7/dist-packages (1.43.89)\n",
            "Requirement already satisfied: yarl==1.1.0; python_version >= \"3.5.2\" in /usr/local/lib/python3.7/dist-packages (from ccxt) (1.1.0)\n",
            "Requirement already satisfied: cryptography>=2.6.1 in /usr/local/lib/python3.7/dist-packages (from ccxt) (3.4.6)\n",
            "Requirement already satisfied: aiodns<2.1,>=1.1.1; python_version >= \"3.5.2\" in /usr/local/lib/python3.7/dist-packages (from ccxt) (2.0.0)\n",
            "Requirement already satisfied: aiohttp<3.8,>=3.7.4; python_version >= \"3.5.2\" in /usr/local/lib/python3.7/dist-packages (from ccxt) (3.7.4.post0)\n",
            "Requirement already satisfied: certifi>=2018.1.18 in /usr/local/lib/python3.7/dist-packages (from ccxt) (2020.12.5)\n",
            "Requirement already satisfied: requests>=2.18.4 in /usr/local/lib/python3.7/dist-packages (from ccxt) (2.23.0)\n",
            "Requirement already satisfied: setuptools>=38.5.1 in /usr/local/lib/python3.7/dist-packages (from ccxt) (54.1.2)\n",
            "Requirement already satisfied: idna>=2.0 in /usr/local/lib/python3.7/dist-packages (from yarl==1.1.0; python_version >= \"3.5.2\"->ccxt) (2.10)\n",
            "Requirement already satisfied: multidict>=4.0 in /usr/local/lib/python3.7/dist-packages (from yarl==1.1.0; python_version >= \"3.5.2\"->ccxt) (5.1.0)\n",
            "Requirement already satisfied: cffi>=1.12 in /usr/local/lib/python3.7/dist-packages (from cryptography>=2.6.1->ccxt) (1.14.5)\n",
            "Requirement already satisfied: pycares>=3.0.0 in /usr/local/lib/python3.7/dist-packages (from aiodns<2.1,>=1.1.1; python_version >= \"3.5.2\"->ccxt) (3.1.1)\n",
            "Requirement already satisfied: chardet<5.0,>=2.0 in /usr/local/lib/python3.7/dist-packages (from aiohttp<3.8,>=3.7.4; python_version >= \"3.5.2\"->ccxt) (3.0.4)\n",
            "Requirement already satisfied: attrs>=17.3.0 in /usr/local/lib/python3.7/dist-packages (from aiohttp<3.8,>=3.7.4; python_version >= \"3.5.2\"->ccxt) (20.3.0)\n",
            "Requirement already satisfied: typing-extensions>=3.6.5 in /usr/local/lib/python3.7/dist-packages (from aiohttp<3.8,>=3.7.4; python_version >= \"3.5.2\"->ccxt) (3.7.4.3)\n",
            "Requirement already satisfied: async-timeout<4.0,>=3.0 in /usr/local/lib/python3.7/dist-packages (from aiohttp<3.8,>=3.7.4; python_version >= \"3.5.2\"->ccxt) (3.0.1)\n",
            "Requirement already satisfied: urllib3!=1.25.0,!=1.25.1,<1.26,>=1.21.1 in /usr/local/lib/python3.7/dist-packages (from requests>=2.18.4->ccxt) (1.24.3)\n",
            "Requirement already satisfied: pycparser in /usr/local/lib/python3.7/dist-packages (from cffi>=1.12->cryptography>=2.6.1->ccxt) (2.20)\n"
          ],
          "name": "stdout"
        }
      ]
    },
    {
      "cell_type": "code",
      "metadata": {
        "id": "5TFOEwLwgsFQ"
      },
      "source": [
        "import ftx, ccxt, hmac, datetime, pytz\n",
        "from time import time, sleep\n",
        "import urllib.parse\n",
        "from typing import Optional, Dict, Any, List\n",
        "\n",
        "from requests import Request, Session, Response\n",
        "from ciso8601 import parse_datetime"
      ],
      "execution_count": 4,
      "outputs": []
    },
    {
      "cell_type": "markdown",
      "metadata": {
        "id": "gRgKB6hMESgy"
      },
      "source": [
        "# **LOGIN HERE !!!**"
      ]
    },
    {
      "cell_type": "code",
      "metadata": {
        "id": "d9RsA3vigwtd"
      },
      "source": [
        "Public_URL = 'https://ftx.com/api'\n",
        "ApiKey = \"gtiu5hQbvzwhOYpCYH35xcjUQ8GySUUGNCw4jnN\"\n",
        "Secret = \"X0C9xO2BJFARMUsxeWz6ABKz1xGk3sctMq1qGsg\"\n",
        "my_subaccount_nickname  = \"BOTRebalanceXRP\" \n",
        "\n",
        "# log in \n",
        "client = ftx.FtxClient(Public_URL, ApiKey, Secret, my_subaccount_nickname)"
      ],
      "execution_count": 5,
      "outputs": []
    },
    {
      "cell_type": "code",
      "metadata": {
        "id": "H8YqHAl0g22T"
      },
      "source": [
        "class info:\n",
        "  def __init__(self, symbol, total, value_usd, available):\n",
        "    self.symbol = symbol\n",
        "    self.total = total\n",
        "    self.value_usd = value_usd\n",
        "    self.available = available\n",
        "\n",
        "  def show_balance(self):\n",
        "     print(\"symbol : \", self.symbol,\", total : \", self.total,\", value_usd : \", self.value_usd,\", available : \", self.available)\n",
        "\n",
        "  def show_available(self):\n",
        "    print(self.available)\n",
        "\n",
        "class price:\n",
        "  def __init__(self, pair , price, bid, ask, sizeIncrement):\n",
        "    self.pair = pair\n",
        "    self.price = price\n",
        "    self.bid = bid\n",
        "    self.ask = ask\n",
        "    self.sizeIncrement = sizeIncrement\n",
        "\n",
        "  def show_price(self):\n",
        "      print(\"pair : \", self.pair,\", price : \", self.price,\", bid : \", self.bid,\", ask : \", self.ask, \", sizeIncrement : \", self.sizeIncrement)"
      ],
      "execution_count": 6,
      "outputs": []
    },
    {
      "cell_type": "markdown",
      "metadata": {
        "id": "LnHFyOq7OVSs"
      },
      "source": [
        "# **ATTENTION**\n",
        "1.   don't forget to check your coin in account\n",
        "2.   set : coin\n",
        "3.   set : lending_percentage\n",
        "4.   set : minimum lending rate"
      ]
    },
    {
      "cell_type": "code",
      "metadata": {
        "colab": {
          "base_uri": "https://localhost:8080/"
        },
        "id": "FiCBqwKskxHF",
        "outputId": "2e7c2d56-18c4-4847-c5bd-759cd7ad7cd0"
      },
      "source": [
        "balance = client.get_balances()\n",
        "\n",
        "print(\"you have {} type of coin in this account (*{}*)\".format( len(balance),my_subaccount_nickname))\n",
        "\n",
        "for i in range(len(balance)):\n",
        "  print(\"index {} is {}\".format(i, balance[i][\"coin\"]))"
      ],
      "execution_count": 7,
      "outputs": [
        {
          "output_type": "stream",
          "text": [
            "you have 5 type of coin in this account (*BOTRebalanceXRP*)\n",
            "index 0 is EOSBULL\n",
            "index 1 is USD\n",
            "index 2 is XRPBEAR\n",
            "index 3 is XRPBULL\n",
            "index 4 is XRP\n"
          ],
          "name": "stdout"
        }
      ]
    },
    {
      "cell_type": "markdown",
      "metadata": {
        "id": "G8VQJGSLqnOX"
      },
      "source": [
        "# **SET HERE !**"
      ]
    },
    {
      "cell_type": "code",
      "metadata": {
        "id": "BiU1TPlqOT0D"
      },
      "source": [
        "coin = 1 # \n",
        "rent_percentage = .6 # lending_percentage X/100 , 60% = 60/100 = .6\n",
        "rate = 1e-06 # e = 10^, 1e-06 = 1*10^(-06) = 0.000001"
      ],
      "execution_count": 8,
      "outputs": []
    },
    {
      "cell_type": "code",
      "metadata": {
        "colab": {
          "base_uri": "https://localhost:8080/"
        },
        "id": "SyS5qjO6WcQl",
        "outputId": "fbb9b171-4c7f-4c90-fd55-291ea2c8a6d0"
      },
      "source": [
        "# show rate\n",
        "client._get(\"spot_margin/lending_rates\", {\"coin\" : \"USD\"})"
      ],
      "execution_count": 9,
      "outputs": [
        {
          "output_type": "execute_result",
          "data": {
            "text/plain": [
              "[{'coin': '1INCH', 'estimate': 2.283e-05, 'previous': 2.283e-05},\n",
              " {'coin': 'AAPL', 'estimate': 1e-06, 'previous': 1e-06},\n",
              " {'coin': 'AAVE', 'estimate': 1e-06, 'previous': 1e-06},\n",
              " {'coin': 'ABNB', 'estimate': 1e-06, 'previous': 1e-06},\n",
              " {'coin': 'ACB', 'estimate': 1e-06, 'previous': 1e-06},\n",
              " {'coin': 'ALPHA', 'estimate': 1e-06, 'previous': 1e-06},\n",
              " {'coin': 'AMC', 'estimate': 1e-06, 'previous': 1e-06},\n",
              " {'coin': 'AMD', 'estimate': 1e-06, 'previous': 1e-06},\n",
              " {'coin': 'AMZN', 'estimate': 1e-06, 'previous': 1e-06},\n",
              " {'coin': 'APHA', 'estimate': 1e-06, 'previous': 1e-06},\n",
              " {'coin': 'ARKK', 'estimate': 1e-06, 'previous': 1e-06},\n",
              " {'coin': 'AUD', 'estimate': 2.283e-05, 'previous': 2.283e-05},\n",
              " {'coin': 'BABA', 'estimate': 1e-06, 'previous': 1e-06},\n",
              " {'coin': 'BAND', 'estimate': 1e-06, 'previous': 1e-06},\n",
              " {'coin': 'BB', 'estimate': 1e-06, 'previous': 1e-06},\n",
              " {'coin': 'BCH', 'estimate': 1e-06, 'previous': 1e-06},\n",
              " {'coin': 'BILI', 'estimate': 1e-06, 'previous': 1e-06},\n",
              " {'coin': 'BITW', 'estimate': 1e-06, 'previous': 1e-06},\n",
              " {'coin': 'BNB', 'estimate': 9.13e-06, 'previous': 9.13e-06},\n",
              " {'coin': 'BNT', 'estimate': 1e-06, 'previous': 1e-06},\n",
              " {'coin': 'BNTX', 'estimate': 1e-06, 'previous': 1e-06},\n",
              " {'coin': 'BRZ', 'estimate': 1e-06, 'previous': 1e-06},\n",
              " {'coin': 'BTC', 'estimate': 1e-06, 'previous': 1e-06},\n",
              " {'coin': 'BTMX', 'estimate': 1e-06, 'previous': 1e-06},\n",
              " {'coin': 'BYND', 'estimate': 1e-06, 'previous': 1e-06},\n",
              " {'coin': 'CAD', 'estimate': 1.142e-05, 'previous': 1.142e-05},\n",
              " {'coin': 'CBSE', 'estimate': 4.167e-05, 'previous': 4.167e-05},\n",
              " {'coin': 'CEL', 'estimate': 1e-06, 'previous': 1e-06},\n",
              " {'coin': 'CGC', 'estimate': 1e-06, 'previous': 1e-06},\n",
              " {'coin': 'CRON', 'estimate': 1e-06, 'previous': 1e-06},\n",
              " {'coin': 'CUSDT', 'estimate': 2.854e-05, 'previous': 2.854e-05},\n",
              " {'coin': 'DAI', 'estimate': 1.027e-05, 'previous': 1.027e-05},\n",
              " {'coin': 'DOGE', 'estimate': 1e-06, 'previous': 1e-06},\n",
              " {'coin': 'ETH', 'estimate': 2.85e-06, 'previous': 2.85e-06},\n",
              " {'coin': 'ETHE', 'estimate': 2.28e-06, 'previous': 0.00011416},\n",
              " {'coin': 'EUR', 'estimate': 1e-06, 'previous': 1e-06},\n",
              " {'coin': 'FB', 'estimate': 1e-06, 'previous': 1e-06},\n",
              " {'coin': 'GBP', 'estimate': 5.14e-06, 'previous': 5.14e-06},\n",
              " {'coin': 'GBTC', 'estimate': 1e-06, 'previous': 1e-06},\n",
              " {'coin': 'GDX', 'estimate': 1e-06, 'previous': 1e-06},\n",
              " {'coin': 'GDXJ', 'estimate': 1e-06, 'previous': 1e-06},\n",
              " {'coin': 'GLD', 'estimate': 1e-06, 'previous': 1e-06},\n",
              " {'coin': 'GLXY', 'estimate': 1e-06, 'previous': 1e-06},\n",
              " {'coin': 'GME', 'estimate': 0.0002, 'previous': 0.0002},\n",
              " {'coin': 'GOOGL', 'estimate': 1e-06, 'previous': 1e-06},\n",
              " {'coin': 'GRT', 'estimate': 1e-06, 'previous': 1e-06},\n",
              " {'coin': 'HT', 'estimate': 1e-06, 'previous': 1e-06},\n",
              " {'coin': 'KNC', 'estimate': 1e-06, 'previous': 1e-06},\n",
              " {'coin': 'LEO', 'estimate': 1e-06, 'previous': 1e-06},\n",
              " {'coin': 'LINK', 'estimate': 5.48e-06, 'previous': 5.48e-06},\n",
              " {'coin': 'LTC', 'estimate': 1e-06, 'previous': 1e-06},\n",
              " {'coin': 'MATIC', 'estimate': 1e-06, 'previous': 1e-06},\n",
              " {'coin': 'MKR', 'estimate': 4.45e-06, 'previous': 4.45e-06},\n",
              " {'coin': 'MOB', 'estimate': 0.00015916, 'previous': 0.00015982},\n",
              " {'coin': 'MRNA', 'estimate': 1e-06, 'previous': 1e-06},\n",
              " {'coin': 'MSTR', 'estimate': 1e-06, 'previous': 1e-06},\n",
              " {'coin': 'NFLX', 'estimate': 1e-06, 'previous': 1e-06},\n",
              " {'coin': 'NIO', 'estimate': 1e-06, 'previous': 1e-06},\n",
              " {'coin': 'NOK', 'estimate': 1e-06, 'previous': 1e-06},\n",
              " {'coin': 'NVDA', 'estimate': 1e-06, 'previous': 1e-06},\n",
              " {'coin': 'OKB', 'estimate': 1e-06, 'previous': 1e-06},\n",
              " {'coin': 'OMG', 'estimate': 1e-06, 'previous': 1e-06},\n",
              " {'coin': 'PAXG', 'estimate': 1e-06, 'previous': 1e-06},\n",
              " {'coin': 'PENN', 'estimate': 1e-06, 'previous': 1e-06},\n",
              " {'coin': 'PFE', 'estimate': 1e-06, 'previous': 1e-06},\n",
              " {'coin': 'PYPL', 'estimate': 1e-06, 'previous': 1e-06},\n",
              " {'coin': 'REN', 'estimate': 1e-06, 'previous': 1e-06},\n",
              " {'coin': 'RSR', 'estimate': 1e-06, 'previous': 1e-06},\n",
              " {'coin': 'RUNE', 'estimate': 1e-06, 'previous': 1e-06},\n",
              " {'coin': 'SLV', 'estimate': 1e-06, 'previous': 1e-06},\n",
              " {'coin': 'SNX', 'estimate': 4.57e-06, 'previous': 4.57e-06},\n",
              " {'coin': 'SPY', 'estimate': 1e-06, 'previous': 1e-06},\n",
              " {'coin': 'SQ', 'estimate': 1e-06, 'previous': 1e-06},\n",
              " {'coin': 'SUSHI', 'estimate': 7.99e-06, 'previous': 7.99e-06},\n",
              " {'coin': 'SXP', 'estimate': 1e-06, 'previous': 1e-06},\n",
              " {'coin': 'TLRY', 'estimate': 1e-06, 'previous': 1e-06},\n",
              " {'coin': 'TOMO', 'estimate': 1e-06, 'previous': 1e-06},\n",
              " {'coin': 'TRX', 'estimate': 1.31e-06, 'previous': 1.42e-06},\n",
              " {'coin': 'TRYB', 'estimate': 7.42e-05, 'previous': 7.42e-05},\n",
              " {'coin': 'TSLA', 'estimate': 3.42e-06, 'previous': 3.42e-06},\n",
              " {'coin': 'TSM', 'estimate': 1e-06, 'previous': 1e-06},\n",
              " {'coin': 'TWTR', 'estimate': 1e-06, 'previous': 1e-06},\n",
              " {'coin': 'UBER', 'estimate': 2.283e-05, 'previous': 2.283e-05},\n",
              " {'coin': 'UNI', 'estimate': 1e-06, 'previous': 1e-06},\n",
              " {'coin': 'USD', 'estimate': 3.425e-05, 'previous': 3.425e-05},\n",
              " {'coin': 'USDT', 'estimate': 3.425e-05, 'previous': 3.425e-05},\n",
              " {'coin': 'USO', 'estimate': 1e-06, 'previous': 1e-06},\n",
              " {'coin': 'WBTC', 'estimate': 8.76e-06, 'previous': 8.76e-06},\n",
              " {'coin': 'XAUT', 'estimate': 1e-06, 'previous': 1e-06},\n",
              " {'coin': 'XRP', 'estimate': 1e-06, 'previous': 1e-06},\n",
              " {'coin': 'YFI', 'estimate': 1e-06, 'previous': 1e-06},\n",
              " {'coin': 'ZM', 'estimate': 1e-06, 'previous': 1e-06}]"
            ]
          },
          "metadata": {
            "tags": []
          },
          "execution_count": 9
        }
      ]
    },
    {
      "cell_type": "code",
      "metadata": {
        "id": "0tGJHcDFA5_1"
      },
      "source": [
        "# if you have 7 coin then total port value = balance[0][\"usdValue\"] + balance[1][\"usdValue\"] + balance[2][\"usdValue\" ] + ... + balance[6][\"usdValue\"]\n",
        "# until you have all "
      ],
      "execution_count": 10,
      "outputs": []
    },
    {
      "cell_type": "markdown",
      "metadata": {
        "id": "3Dp7X1iFJa01"
      },
      "source": [
        "# Check \"total_port_value\"\n",
        "\n",
        "\n",
        "* if you have 7 coin \n",
        "\n",
        "* then total port value = balance[0][\"usdValue\"] + balance[1][\"usdValue\"] + balance[2][\"usdValue\" ] + ... + balance[6][\"usdValue\"] until you have all "
      ]
    },
    {
      "cell_type": "code",
      "metadata": {
        "id": "7jg0_7jEgx8G"
      },
      "source": [
        "def check():\n",
        "  balance = client.get_balances()\n",
        "  input_pair = \"XRP/USD\"\n",
        "  \n",
        "  pair = client.get_market(input_pair)\n",
        "  balance = client.get_balances()\n",
        "  input_pair_name = input_pair.replace('/', '')\n",
        "  \n",
        "  list_pair= price(str(input_pair), pair[\"price\"], pair[\"bid\"], pair[\"ask\"], pair['sizeIncrement'])\n",
        "\n",
        "  total_port_value  = balance[0][\"usdValue\"]+balance[1][\"usdValue\"]+balance[2][\"usdValue\"]+balance[3][\"usdValue\"]+balance[4][\"usdValue\"]\n",
        "    \n",
        "  print(\"total port value is {} USD\".format(total_port_value))\n",
        "  print(\"total {} is {}\".format( balance[coin][\"coin\"] ,balance[coin]['total']))\n",
        "  print(\"total {} available to borrow is {}\".format(balance[coin][\"coin\"], balance[coin]['availableWithoutBorrow']))\n",
        "  print(\"total {}% of {} amount is {}\".format(balance[coin][\"coin\"] ,rent_percentage,balance[coin]['availableWithoutBorrow']*rent_percentage))"
      ],
      "execution_count": 11,
      "outputs": []
    },
    {
      "cell_type": "code",
      "metadata": {
        "id": "jdrUPlIGC_9H"
      },
      "source": [
        "def lending(lend_amount):\n",
        "  balance = client.get_balances()\n",
        "  USDava = balance[coin]\n",
        "  \n",
        "  client.get_position(\"spot_margin/offer\", {\n",
        "    \"coin\" : balance[coin][\"coin\"],\n",
        "    \"size\" : lend_amount , \n",
        "    \"rate\" : rate\n",
        "    })\n",
        "  \n",
        "  print(\"Report :\" , client._get(\"spot_margin/lending_info\")[0]) #####"
      ],
      "execution_count": 12,
      "outputs": []
    },
    {
      "cell_type": "code",
      "metadata": {
        "id": "OuOKy2OmMbjn"
      },
      "source": [
        "def lending_condition(rent_percentage):\n",
        "\n",
        "  if balance[coin][\"availableWithoutBorrow\"] > balance[coin]['total']*rent_percentage :\n",
        " # balance > rent_percentage (con 1)\n",
        "    if balance[coin][\"availableWithoutBorrow\"] - balance[coin]['total']*(1-(rent_percentage)) > 1 :\n",
        "      print(\"will lending {} total {}\".format(balance[coin][\"coin\"], balance[1]['total']*rent_percentage))\n",
        "      lending(balance[coin]['total']*rent_percentage)\n",
        "\n",
        "    else :\n",
        "      print(\"{} available > {}% , No enough money\".format(balance[coin][\"coin\"], rent_percentage*100))\n",
        "    \n",
        "  # balance < rent_percentage (con 2)\n",
        "  elif balance[coin][\"availableWithoutBorrow\"] < balance[coin]['total']*rent_percentage :\n",
        "    if balance[coin][\"availableWithoutBorrow\"] - balance[coin]['total']*(1-(rent_percentage)) > 1 :\n",
        "      print(\"will lending {} total {}\".format(balance[coin][\"coin\"], balance[1][\"availableWithoutBorrow\"] - balance[coin]['total']*(1-(rent_percentage))))\n",
        "      lending(balance[coin][\"availableWithoutBorrow\"] - balance[coin]['total']*(1-(rent_percentage)))\n",
        "\n",
        "    else :\n",
        "      print(\"{} available > {}% , No enough money\".format(balance[coin][\"coin\"], balance[coin]['total']*(1-(rent_percentage))*100))\n",
        "      pass\n",
        "\n",
        "  # con 3\n",
        "  else: \n",
        "    print(\"do nothing cause rate no change\")"
      ],
      "execution_count": 13,
      "outputs": []
    },
    {
      "cell_type": "code",
      "metadata": {
        "id": "RuPxp_qoBUr6",
        "colab": {
          "base_uri": "https://localhost:8080/",
          "height": 425
        },
        "outputId": "e045c9e0-6e58-4dcc-d865-4c9f1fa26906"
      },
      "source": [
        "def main():\n",
        "    try:\n",
        "        print(\"-----------------start loop----------------------\")\n",
        "        check()\n",
        "\n",
        "        my_date = datetime.datetime.now(pytz.timezone('Asia/Bangkok'))\n",
        "        print(\"check price\" , my_date, \"@Bangkok time zome\")\n",
        "        print(\"take action\")\n",
        "        lending_condition(rent_percentage)\n",
        "        \n",
        "        print(\"-----------------end loop----------------------\")\n",
        "        print(\"-                                                       -\")\n",
        "\n",
        "    except :\n",
        "        print('Error')\n",
        "        pass\n",
        "\n",
        "while True:\n",
        "  sleep(30)\n",
        "  main()\n",
        "else:\n",
        "  print(\"something error\")"
      ],
      "execution_count": 14,
      "outputs": [
        {
          "output_type": "stream",
          "text": [
            "-----------------start loop----------------------\n",
            "total port value is 2.99273641055806 USD\n",
            "total USD is 2.10103862\n",
            "total USD available to borrow is 2.10103862\n",
            "total USD% of 0.6 amount is 1.260623172\n",
            "check price 2021-03-22 21:55:16.869461+07:00 @Bangkok time zome\n",
            "take action\n",
            "will lending USD total 1.260623172\n",
            "Report : {'coin': 'USD', 'locked': 0.0, 'lendable': 2.10103862, 'offered': 0.0, 'minRate': None}\n",
            "-----------------end loop----------------------\n",
            "-                                                       -\n"
          ],
          "name": "stdout"
        },
        {
          "output_type": "error",
          "ename": "KeyboardInterrupt",
          "evalue": "ignored",
          "traceback": [
            "\u001b[0;31m---------------------------------------------------------------------------\u001b[0m",
            "\u001b[0;31mKeyboardInterrupt\u001b[0m                         Traceback (most recent call last)",
            "\u001b[0;32m<ipython-input-14-c68a93ba390e>\u001b[0m in \u001b[0;36m<module>\u001b[0;34m()\u001b[0m\n\u001b[1;32m     17\u001b[0m \u001b[0;34m\u001b[0m\u001b[0m\n\u001b[1;32m     18\u001b[0m \u001b[0;32mwhile\u001b[0m \u001b[0;32mTrue\u001b[0m\u001b[0;34m:\u001b[0m\u001b[0;34m\u001b[0m\u001b[0;34m\u001b[0m\u001b[0m\n\u001b[0;32m---> 19\u001b[0;31m   \u001b[0msleep\u001b[0m\u001b[0;34m(\u001b[0m\u001b[0;36m30\u001b[0m\u001b[0;34m)\u001b[0m\u001b[0;34m\u001b[0m\u001b[0;34m\u001b[0m\u001b[0m\n\u001b[0m\u001b[1;32m     20\u001b[0m   \u001b[0mmain\u001b[0m\u001b[0;34m(\u001b[0m\u001b[0;34m)\u001b[0m\u001b[0;34m\u001b[0m\u001b[0;34m\u001b[0m\u001b[0m\n\u001b[1;32m     21\u001b[0m \u001b[0;32melse\u001b[0m\u001b[0;34m:\u001b[0m\u001b[0;34m\u001b[0m\u001b[0;34m\u001b[0m\u001b[0m\n",
            "\u001b[0;31mKeyboardInterrupt\u001b[0m: "
          ]
        }
      ]
    }
  ]
}