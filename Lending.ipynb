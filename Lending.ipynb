{
  "nbformat": 4,
  "nbformat_minor": 0,
  "metadata": {
    "colab": {
      "name": "Lending.ipynb",
      "provenance": [],
      "collapsed_sections": [],
      "authorship_tag": "ABX9TyP9+v5boMltkyQUWx1XCBI0",
      "include_colab_link": true
    },
    "kernelspec": {
      "name": "python3",
      "display_name": "Python 3"
    },
    "language_info": {
      "name": "python"
    }
  },
  "cells": [
    {
      "cell_type": "markdown",
      "metadata": {
        "id": "view-in-github",
        "colab_type": "text"
      },
      "source": [
        "<a href=\"https://colab.research.google.com/github/tutalae/BTC/blob/master/Lending.ipynb\" target=\"_parent\"><img src=\"https://colab.research.google.com/assets/colab-badge.svg\" alt=\"Open In Colab\"/></a>"
      ]
    },
    {
      "cell_type": "code",
      "metadata": {
        "colab": {
          "base_uri": "https://localhost:8080/"
        },
        "id": "zifAYBQgfzcD",
        "outputId": "112a0585-b1aa-48e2-b8f4-13ed5a3fb19d"
      },
      "source": [
        "pip install ftx"
      ],
      "execution_count": 3,
      "outputs": [
        {
          "output_type": "stream",
          "text": [
            "Requirement already satisfied: ftx in /usr/local/lib/python3.7/dist-packages (1.0.2)\n",
            "Requirement already satisfied: satoshi==0.1.3 in /usr/local/lib/python3.7/dist-packages (from ftx) (0.1.3)\n",
            "Requirement already satisfied: schedule==0.6.0 in /usr/local/lib/python3.7/dist-packages (from ftx) (0.6.0)\n",
            "Requirement already satisfied: requests==2.23.0 in /usr/local/lib/python3.7/dist-packages (from ftx) (2.23.0)\n",
            "Requirement already satisfied: certifi>=2017.4.17 in /usr/local/lib/python3.7/dist-packages (from requests==2.23.0->ftx) (2020.12.5)\n",
            "Requirement already satisfied: idna<3,>=2.5 in /usr/local/lib/python3.7/dist-packages (from requests==2.23.0->ftx) (2.10)\n",
            "Requirement already satisfied: chardet<4,>=3.0.2 in /usr/local/lib/python3.7/dist-packages (from requests==2.23.0->ftx) (3.0.4)\n",
            "Requirement already satisfied: urllib3!=1.25.0,!=1.25.1,<1.26,>=1.21.1 in /usr/local/lib/python3.7/dist-packages (from requests==2.23.0->ftx) (1.24.3)\n"
          ],
          "name": "stdout"
        }
      ]
    },
    {
      "cell_type": "code",
      "metadata": {
        "colab": {
          "base_uri": "https://localhost:8080/"
        },
        "id": "3yjTeu7LgfDH",
        "outputId": "bbf9d7c6-bbcf-4819-8f8b-be27c1ef7aa8"
      },
      "source": [
        "pip install ciso8601"
      ],
      "execution_count": 4,
      "outputs": [
        {
          "output_type": "stream",
          "text": [
            "Requirement already satisfied: ciso8601 in /usr/local/lib/python3.7/dist-packages (2.1.3)\n"
          ],
          "name": "stdout"
        }
      ]
    },
    {
      "cell_type": "code",
      "metadata": {
        "colab": {
          "base_uri": "https://localhost:8080/"
        },
        "id": "iIziglL3gk7R",
        "outputId": "bc8e2da1-5d8e-4dd4-c9fd-a28159ef90b7"
      },
      "source": [
        "pip install ccxt"
      ],
      "execution_count": 5,
      "outputs": [
        {
          "output_type": "stream",
          "text": [
            "Requirement already satisfied: ccxt in /usr/local/lib/python3.7/dist-packages (1.43.89)\n",
            "Requirement already satisfied: aiohttp<3.8,>=3.7.4; python_version >= \"3.5.2\" in /usr/local/lib/python3.7/dist-packages (from ccxt) (3.7.4.post0)\n",
            "Requirement already satisfied: cryptography>=2.6.1 in /usr/local/lib/python3.7/dist-packages (from ccxt) (3.4.6)\n",
            "Requirement already satisfied: aiodns<2.1,>=1.1.1; python_version >= \"3.5.2\" in /usr/local/lib/python3.7/dist-packages (from ccxt) (2.0.0)\n",
            "Requirement already satisfied: setuptools>=38.5.1 in /usr/local/lib/python3.7/dist-packages (from ccxt) (54.1.2)\n",
            "Requirement already satisfied: yarl==1.1.0; python_version >= \"3.5.2\" in /usr/local/lib/python3.7/dist-packages (from ccxt) (1.1.0)\n",
            "Requirement already satisfied: requests>=2.18.4 in /usr/local/lib/python3.7/dist-packages (from ccxt) (2.23.0)\n",
            "Requirement already satisfied: certifi>=2018.1.18 in /usr/local/lib/python3.7/dist-packages (from ccxt) (2020.12.5)\n",
            "Requirement already satisfied: multidict<7.0,>=4.5 in /usr/local/lib/python3.7/dist-packages (from aiohttp<3.8,>=3.7.4; python_version >= \"3.5.2\"->ccxt) (5.1.0)\n",
            "Requirement already satisfied: async-timeout<4.0,>=3.0 in /usr/local/lib/python3.7/dist-packages (from aiohttp<3.8,>=3.7.4; python_version >= \"3.5.2\"->ccxt) (3.0.1)\n",
            "Requirement already satisfied: chardet<5.0,>=2.0 in /usr/local/lib/python3.7/dist-packages (from aiohttp<3.8,>=3.7.4; python_version >= \"3.5.2\"->ccxt) (3.0.4)\n",
            "Requirement already satisfied: attrs>=17.3.0 in /usr/local/lib/python3.7/dist-packages (from aiohttp<3.8,>=3.7.4; python_version >= \"3.5.2\"->ccxt) (20.3.0)\n",
            "Requirement already satisfied: typing-extensions>=3.6.5 in /usr/local/lib/python3.7/dist-packages (from aiohttp<3.8,>=3.7.4; python_version >= \"3.5.2\"->ccxt) (3.7.4.3)\n",
            "Requirement already satisfied: cffi>=1.12 in /usr/local/lib/python3.7/dist-packages (from cryptography>=2.6.1->ccxt) (1.14.5)\n",
            "Requirement already satisfied: pycares>=3.0.0 in /usr/local/lib/python3.7/dist-packages (from aiodns<2.1,>=1.1.1; python_version >= \"3.5.2\"->ccxt) (3.1.1)\n",
            "Requirement already satisfied: idna>=2.0 in /usr/local/lib/python3.7/dist-packages (from yarl==1.1.0; python_version >= \"3.5.2\"->ccxt) (2.10)\n",
            "Requirement already satisfied: urllib3!=1.25.0,!=1.25.1,<1.26,>=1.21.1 in /usr/local/lib/python3.7/dist-packages (from requests>=2.18.4->ccxt) (1.24.3)\n",
            "Requirement already satisfied: pycparser in /usr/local/lib/python3.7/dist-packages (from cffi>=1.12->cryptography>=2.6.1->ccxt) (2.20)\n"
          ],
          "name": "stdout"
        }
      ]
    },
    {
      "cell_type": "code",
      "metadata": {
        "id": "5TFOEwLwgsFQ"
      },
      "source": [
        "import ftx, ccxt, hmac, datetime, pytz\n",
        "from time import time, sleep\n",
        "import urllib.parse\n",
        "from typing import Optional, Dict, Any, List\n",
        "\n",
        "from requests import Request, Session, Response\n",
        "from ciso8601 import parse_datetime"
      ],
      "execution_count": 6,
      "outputs": []
    },
    {
      "cell_type": "markdown",
      "metadata": {
        "id": "gRgKB6hMESgy"
      },
      "source": [
        "# **LOGIN HERE !!!**"
      ]
    },
    {
      "cell_type": "code",
      "metadata": {
        "id": "d9RsA3vigwtd"
      },
      "source": [
        "Public_URL = 'https://ftx.com/api'\n",
        "ApiKey = \"gtiu5hQbvzwhOYpCYH35xcjUQ8GySUUGNCw4jnN\"\n",
        "Secret = \"X0C9xO2BJFARMUsxeWz6ABKz1xGk3sctMq1qGsg\"\n",
        "my_subaccount_nickname  = \"BOTRebalanceXRP\"\n",
        "\n",
        "# log in \n",
        "client = ftx.FtxClient(Public_URL, ApiKey, Secret, my_subaccount_nickname)"
      ],
      "execution_count": 7,
      "outputs": []
    },
    {
      "cell_type": "code",
      "metadata": {
        "id": "H8YqHAl0g22T"
      },
      "source": [
        "class info:\n",
        "  def __init__(self, symbol, total, value_usd, available):\n",
        "    self.symbol = symbol\n",
        "    self.total = total\n",
        "    self.value_usd = value_usd\n",
        "    self.available = available\n",
        "\n",
        "  def show_balance(self):\n",
        "     print(\"symbol : \", self.symbol,\", total : \", self.total,\", value_usd : \", self.value_usd,\", available : \", self.available)\n",
        "\n",
        "  def show_available(self):\n",
        "    print(self.available)\n",
        "\n",
        "class price:\n",
        "  def __init__(self, pair , price, bid, ask, sizeIncrement):\n",
        "    self.pair = pair\n",
        "    self.price = price\n",
        "    self.bid = bid\n",
        "    self.ask = ask\n",
        "    self.sizeIncrement = sizeIncrement\n",
        "\n",
        "  def show_price(self):\n",
        "      print(\"pair : \", self.pair,\", price : \", self.price,\", bid : \", self.bid,\", ask : \", self.ask, \", sizeIncrement : \", self.sizeIncrement)"
      ],
      "execution_count": 8,
      "outputs": []
    },
    {
      "cell_type": "markdown",
      "metadata": {
        "id": "LnHFyOq7OVSs"
      },
      "source": [
        "# **ATTENTION**\n",
        "# 1) don't forget to check your coin in account\n",
        "# 2) set : coin\n",
        "# 3) set : lending_percentage"
      ]
    },
    {
      "cell_type": "code",
      "metadata": {
        "colab": {
          "base_uri": "https://localhost:8080/"
        },
        "id": "FiCBqwKskxHF",
        "outputId": "eeb66c5f-914b-4784-ea65-845ee220523f"
      },
      "source": [
        "balance = client.get_balances()\n",
        "\n",
        "print(\"you have {} type of coin in this account (*{}*)\".format( len(balance),my_subaccount_nickname))\n",
        "\n",
        "for i in range(len(balance)):\n",
        "  print(\"index {} is {}\".format(i, balance[i][\"coin\"]))"
      ],
      "execution_count": 22,
      "outputs": [
        {
          "output_type": "stream",
          "text": [
            "you have 5 type of coin in this account (*BOTRebalanceXRP*)\n",
            "index 0 is EOSBULL\n",
            "index 1 is USD\n",
            "index 2 is XRPBEAR\n",
            "index 3 is XRPBULL\n",
            "index 4 is XRP\n"
          ],
          "name": "stdout"
        }
      ]
    },
    {
      "cell_type": "markdown",
      "metadata": {
        "id": "G8VQJGSLqnOX"
      },
      "source": [
        "# **SET HERE !**"
      ]
    },
    {
      "cell_type": "code",
      "metadata": {
        "id": "BiU1TPlqOT0D"
      },
      "source": [
        "coin = 1 # \n",
        "rent_percentage = .6 # lending_percentage X/100 , 60% = 60/100 = .6"
      ],
      "execution_count": 25,
      "outputs": []
    },
    {
      "cell_type": "code",
      "metadata": {
        "id": "0tGJHcDFA5_1"
      },
      "source": [
        "# if you have 7 coin then total port value = balance[0][\"usdValue\"] + balance[1][\"usdValue\"] + balance[2][\"usdValue\" ] + ... + balance[6][\"usdValue\"]\n",
        "# until you have all "
      ],
      "execution_count": null,
      "outputs": []
    },
    {
      "cell_type": "code",
      "metadata": {
        "id": "7jg0_7jEgx8G"
      },
      "source": [
        "def check():\n",
        "  balance = client.get_balances()\n",
        "  input_pair = \"XRP/USD\"\n",
        "  \n",
        "  pair = client.get_market(input_pair)\n",
        "  balance = client.get_balances()\n",
        "  input_pair_name = input_pair.replace('/', '')\n",
        "  \n",
        "  list_pair= price(str(input_pair), pair[\"price\"], pair[\"bid\"], pair[\"ask\"], pair['sizeIncrement'])\n",
        "\n",
        "  total_port_value  = balance[0][\"usdValue\"]+balance[1][\"usdValue\"]+balance[2][\"usdValue\"]+balance[3][\"usdValue\"]+balance[4][\"usdValue\"]\n",
        "    \n",
        "  print(\"total port value is {} USD\".format(total_port_value))\n",
        "  print(\"total {} is {}\".format( balance[coin][\"coin\"] ,balance[coin]['total']))\n",
        "  print(\"total {} available to borrow is {}\".format(balance[coin][\"coin\"], balance[coin]['availableWithoutBorrow']))\n",
        "  print(\"total {}% of {} amount is {}\".format(balance[coin][\"coin\"] ,rent_percentage,balance[coin]['availableWithoutBorrow']*rent_percentage))"
      ],
      "execution_count": 47,
      "outputs": []
    },
    {
      "cell_type": "code",
      "metadata": {
        "id": "jdrUPlIGC_9H"
      },
      "source": [
        "def lending(*lend_amount):\n",
        "  balance = client.get_balances()\n",
        "  USDava = balance[coin]\n",
        "  \n",
        "  client.get_position(\"spot_margin/offer\", {\n",
        "    \"coin\" : balance[coin][\"coin\"],\n",
        "    \"size\" : *lend_amount, \n",
        "    \"rate\" : 1e-06\n",
        "    })\n",
        "  \n",
        "  print(\"lending total {} usd from total\".format(lend_amount))\n",
        "  print(client._get(\"spot_margin/lending_info\")[0])"
      ],
      "execution_count": 36,
      "outputs": []
    },
    {
      "cell_type": "code",
      "metadata": {
        "id": "OuOKy2OmMbjn"
      },
      "source": [
        "def lending_condition(rent_percentage):\n",
        "\n",
        "  if balance[coin][\"availableWithoutBorrow\"] > balance[coin]['total']*rent_percentage :\n",
        " # balance > rent_percentage (con 1)\n",
        "    if balance[coin][\"availableWithoutBorrow\"] - balance[coin]['total']*(1-(rent_percentage)) > 1 :\n",
        "      lending(balance[coin]['total']*rent_percentage)\n",
        "      print(\"lending {} total {}\".format(balance[coin][\"coin\"], balance[1]['total']*rent_percentage))\n",
        "\n",
        "    else :\n",
        "      print(\"{} available > {}% , No enough money\".format(balance[coin][\"coin\"], rent_percentage*100))\n",
        "    \n",
        "  # balance < rent_percentage (con 2)\n",
        "  elif balance[coin][\"availableWithoutBorrow\"] < balance[coin]['total']*rent_percentage :\n",
        "    if balance[coin][\"availableWithoutBorrow\"] - balance[coin]['total']*(1-(rent_percentage)) > 1 :\n",
        "      lending(balance[coin][\"availableWithoutBorrow\"] - balance[coin]['total']*(1-(rent_percentage)))\n",
        "      print(\"lending {} total {}\".format(balance[coin][\"coin\"], balance[1][\"availableWithoutBorrow\"] - balance[coin]['total']*(1-(rent_percentage))))\n",
        "\n",
        "    else :\n",
        "      print(\"{} available > {}% , No enough money\".format(balance[coin][\"coin\"], balance[coin]['total']*(1-(rent_percentage))*100))\n",
        "      pass\n",
        "\n",
        "  # con 3\n",
        "  else: \n",
        "    print(\"do nothing cause rate no change\")"
      ],
      "execution_count": 53,
      "outputs": []
    },
    {
      "cell_type": "code",
      "metadata": {
        "colab": {
          "base_uri": "https://localhost:8080/"
        },
        "id": "IzlQylwAGNEi",
        "outputId": "b0099741-3fa7-41b6-e47d-a5614ea79e6a"
      },
      "source": [
        "lending_condition(rent_percentage)"
      ],
      "execution_count": 54,
      "outputs": [
        {
          "output_type": "stream",
          "text": [
            "USD available > 60.0% , not enough money\n"
          ],
          "name": "stdout"
        }
      ]
    },
    {
      "cell_type": "code",
      "metadata": {
        "id": "RuPxp_qoBUr6"
      },
      "source": [
        "def main():\n",
        "    try:\n",
        "        print(\"-----------------start loop----------------------\")\n",
        "        check()\n",
        "\n",
        "        my_date = datetime.datetime.now(pytz.timezone('Asia/Bangkok'))\n",
        "        print(\"check price\" , my_date, \"@Bangkok time zome\")\n",
        "        print(\"take action\")\n",
        "        lending_condition(rent_percentage)\n",
        "        \n",
        "        check()\n",
        "        print(\"-----------------end loop----------------------\")\n",
        "        print(\"-                                                       -\")\n",
        "\n",
        "    except :\n",
        "        print('Error')\n",
        "        pass\n",
        "\n",
        "while True:\n",
        "  sleep(30)\n",
        "  main()\n",
        "else:\n",
        "  print(\"something error\")"
      ],
      "execution_count": null,
      "outputs": []
    }
  ]
}