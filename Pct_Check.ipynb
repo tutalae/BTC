{
  "nbformat": 4,
  "nbformat_minor": 0,
  "metadata": {
    "colab": {
      "name": "Pct_Check.ipynb",
      "provenance": [],
      "authorship_tag": "ABX9TyObVFKGEUr7fpF9Q6kbq/Nw",
      "include_colab_link": true
    },
    "kernelspec": {
      "name": "python3",
      "display_name": "Python 3"
    }
  },
  "cells": [
    {
      "cell_type": "markdown",
      "metadata": {
        "id": "view-in-github",
        "colab_type": "text"
      },
      "source": [
        "<a href=\"https://colab.research.google.com/github/tutalae/BTC/blob/master/Pct_Check.ipynb\" target=\"_parent\"><img src=\"https://colab.research.google.com/assets/colab-badge.svg\" alt=\"Open In Colab\"/></a>"
      ]
    },
    {
      "cell_type": "code",
      "metadata": {
        "colab": {
          "base_uri": "https://localhost:8080/"
        },
        "id": "6tr-ZZtgysUp",
        "outputId": "5b84aa75-2cee-41ac-98d5-12a980288c40"
      },
      "source": [
        "!pip install pandas_datareader"
      ],
      "execution_count": 2,
      "outputs": [
        {
          "output_type": "stream",
          "text": [
            "Requirement already satisfied: pandas_datareader in /usr/local/lib/python3.6/dist-packages (0.9.0)\n",
            "Requirement already satisfied: lxml in /usr/local/lib/python3.6/dist-packages (from pandas_datareader) (4.2.6)\n",
            "Requirement already satisfied: pandas>=0.23 in /usr/local/lib/python3.6/dist-packages (from pandas_datareader) (1.1.5)\n",
            "Requirement already satisfied: requests>=2.19.0 in /usr/local/lib/python3.6/dist-packages (from pandas_datareader) (2.23.0)\n",
            "Requirement already satisfied: pytz>=2017.2 in /usr/local/lib/python3.6/dist-packages (from pandas>=0.23->pandas_datareader) (2018.9)\n",
            "Requirement already satisfied: numpy>=1.15.4 in /usr/local/lib/python3.6/dist-packages (from pandas>=0.23->pandas_datareader) (1.19.5)\n",
            "Requirement already satisfied: python-dateutil>=2.7.3 in /usr/local/lib/python3.6/dist-packages (from pandas>=0.23->pandas_datareader) (2.8.1)\n",
            "Requirement already satisfied: chardet<4,>=3.0.2 in /usr/local/lib/python3.6/dist-packages (from requests>=2.19.0->pandas_datareader) (3.0.4)\n",
            "Requirement already satisfied: certifi>=2017.4.17 in /usr/local/lib/python3.6/dist-packages (from requests>=2.19.0->pandas_datareader) (2020.12.5)\n",
            "Requirement already satisfied: idna<3,>=2.5 in /usr/local/lib/python3.6/dist-packages (from requests>=2.19.0->pandas_datareader) (2.10)\n",
            "Requirement already satisfied: urllib3!=1.25.0,!=1.25.1,<1.26,>=1.21.1 in /usr/local/lib/python3.6/dist-packages (from requests>=2.19.0->pandas_datareader) (1.24.3)\n",
            "Requirement already satisfied: six>=1.5 in /usr/local/lib/python3.6/dist-packages (from python-dateutil>=2.7.3->pandas>=0.23->pandas_datareader) (1.15.0)\n"
          ],
          "name": "stdout"
        }
      ]
    },
    {
      "cell_type": "code",
      "metadata": {
        "id": "4RyqP7ASyvJq"
      },
      "source": [
        "import pandas as pd\r\n",
        "import pandas_datareader.data as web\r\n",
        "import numpy as np\r\n",
        "import matplotlib.pyplot as plt\r\n",
        "from datetime import datetime, timedelta\r\n",
        "\r\n",
        "from bs4 import BeautifulSoup\r\n",
        "import requests\r\n",
        "\r\n",
        "import urllib\r\n",
        "import string"
      ],
      "execution_count": 3,
      "outputs": []
    },
    {
      "cell_type": "code",
      "metadata": {
        "id": "i2aQVMQdy3OU"
      },
      "source": [
        "\r\n",
        "Alphabet= string.ascii_uppercase[:26]\r\n",
        "Alphabet = list(Alphabet)\r\n",
        "Alphabet.append(\"NUMBER\")\r\n",
        "url = []\r\n",
        "\r\n",
        "stock = pd.DataFrame()\r\n",
        "\r\n",
        "for c, element in enumerate(Alphabet):\r\n",
        "    urlx = \"https://www.set.or.th/set/commonslookup.do?language=th&country=TH&prefix={}\".format(element)\r\n",
        "    url.append(urlx)\r\n",
        "\r\n",
        "url_df = pd.DataFrame(Alphabet,columns = [\"Index\"])\r\n",
        "url_df['url'] = url"
      ],
      "execution_count": 4,
      "outputs": []
    },
    {
      "cell_type": "code",
      "metadata": {
        "id": "nfLxVmTGy53e"
      },
      "source": [
        "\r\n",
        "stock = []\r\n",
        "for j in url_df['url']:\r\n",
        "    source = requests.get(j).text\r\n",
        "    soup = BeautifulSoup(source, 'html.parser')       \r\n",
        "    table_rows = soup.find_all(\"tr\")\r\n",
        "    for tr in table_rows:\r\n",
        "        td = tr.find_all(\"td\")\r\n",
        "        row = [tr.text for tr in td]\r\n",
        "        stock.append(row)"
      ],
      "execution_count": 5,
      "outputs": []
    },
    {
      "cell_type": "code",
      "metadata": {
        "colab": {
          "base_uri": "https://localhost:8080/",
          "height": 204
        },
        "id": "iB_D5ugfy7l_",
        "outputId": "64f0689e-665d-404c-a180-91fb8e7b5306"
      },
      "source": [
        "columns = [\"Symbol\", \"Thai name\", \"Market\"]\r\n",
        "stock_sym = pd.DataFrame(stock, columns = columns)\r\n",
        "stock_sym.dropna( axis=0, inplace=True)\r\n",
        "stock_sym['Symbol'] = stock_sym['Symbol']+\".BK\"\r\n",
        "stock_sym.head()"
      ],
      "execution_count": 6,
      "outputs": [
        {
          "output_type": "execute_result",
          "data": {
            "text/html": [
              "<div>\n",
              "<style scoped>\n",
              "    .dataframe tbody tr th:only-of-type {\n",
              "        vertical-align: middle;\n",
              "    }\n",
              "\n",
              "    .dataframe tbody tr th {\n",
              "        vertical-align: top;\n",
              "    }\n",
              "\n",
              "    .dataframe thead th {\n",
              "        text-align: right;\n",
              "    }\n",
              "</style>\n",
              "<table border=\"1\" class=\"dataframe\">\n",
              "  <thead>\n",
              "    <tr style=\"text-align: right;\">\n",
              "      <th></th>\n",
              "      <th>Symbol</th>\n",
              "      <th>Thai name</th>\n",
              "      <th>Market</th>\n",
              "    </tr>\n",
              "  </thead>\n",
              "  <tbody>\n",
              "    <tr>\n",
              "      <th>1</th>\n",
              "      <td>A.BK</td>\n",
              "      <td>บริษัท อารียา พรอพเพอร์ตี้ จำกัด (มหาชน)</td>\n",
              "      <td>SET</td>\n",
              "    </tr>\n",
              "    <tr>\n",
              "      <th>2</th>\n",
              "      <td>A5.BK</td>\n",
              "      <td>บริษัท แอสเซท ไฟว์ กรุ๊ป จำกัด (มหาชน)</td>\n",
              "      <td>mai</td>\n",
              "    </tr>\n",
              "    <tr>\n",
              "      <th>3</th>\n",
              "      <td>AAV.BK</td>\n",
              "      <td>บริษัท เอเชีย เอวิเอชั่น จำกัด (มหาชน)</td>\n",
              "      <td>SET</td>\n",
              "    </tr>\n",
              "    <tr>\n",
              "      <th>4</th>\n",
              "      <td>ABICO.BK</td>\n",
              "      <td>บริษัท เอบิโก้ โฮลดิ้งส์ จำกัด (มหาชน)</td>\n",
              "      <td>mai</td>\n",
              "    </tr>\n",
              "    <tr>\n",
              "      <th>5</th>\n",
              "      <td>ABM.BK</td>\n",
              "      <td>บริษัท เอเชีย ไบโอแมส จำกัด (มหาชน)</td>\n",
              "      <td>mai</td>\n",
              "    </tr>\n",
              "  </tbody>\n",
              "</table>\n",
              "</div>"
            ],
            "text/plain": [
              "     Symbol                                 Thai name Market\n",
              "1      A.BK  บริษัท อารียา พรอพเพอร์ตี้ จำกัด (มหาชน)    SET\n",
              "2     A5.BK    บริษัท แอสเซท ไฟว์ กรุ๊ป จำกัด (มหาชน)    mai\n",
              "3    AAV.BK    บริษัท เอเชีย เอวิเอชั่น จำกัด (มหาชน)    SET\n",
              "4  ABICO.BK    บริษัท เอบิโก้ โฮลดิ้งส์ จำกัด (มหาชน)    mai\n",
              "5    ABM.BK       บริษัท เอเชีย ไบโอแมส จำกัด (มหาชน)    mai"
            ]
          },
          "metadata": {
            "tags": []
          },
          "execution_count": 6
        }
      ]
    },
    {
      "cell_type": "code",
      "metadata": {
        "colab": {
          "base_uri": "https://localhost:8080/"
        },
        "id": "FYR0lPSVy-fo",
        "outputId": "2f493d1a-f69c-4ca7-8e08-5dc50e875c77"
      },
      "source": [
        "stock_sym.info()"
      ],
      "execution_count": 7,
      "outputs": [
        {
          "output_type": "stream",
          "text": [
            "<class 'pandas.core.frame.DataFrame'>\n",
            "Int64Index: 812 entries, 1 to 838\n",
            "Data columns (total 3 columns):\n",
            " #   Column     Non-Null Count  Dtype \n",
            "---  ------     --------------  ----- \n",
            " 0   Symbol     812 non-null    object\n",
            " 1   Thai name  812 non-null    object\n",
            " 2   Market     812 non-null    object\n",
            "dtypes: object(3)\n",
            "memory usage: 25.4+ KB\n"
          ],
          "name": "stdout"
        }
      ]
    },
    {
      "cell_type": "code",
      "metadata": {
        "id": "x_Devxo3zBCV"
      },
      "source": [
        "Sym_SET = stock_sym[stock_sym[\"Market\"]==\"SET\"]\r\n",
        "Sym_S = Sym_SET[\"Symbol\"]\r\n",
        "Sym_S = Sym_S.reset_index(drop = True)"
      ],
      "execution_count": 8,
      "outputs": []
    },
    {
      "cell_type": "code",
      "metadata": {
        "id": "iY16AnSgzDom"
      },
      "source": [
        "def get_max_Pct_5 (Major):    \r\n",
        "    for i in Major:\r\n",
        "        try:\r\n",
        "            s1 = datetime.now() - timedelta(400)\r\n",
        "            s2 = datetime.now() - timedelta(2)\r\n",
        "\r\n",
        "            start_date = \"{0}-{1}-{2}\".format(s1.day, s1.month, s1.year)\r\n",
        "            end_date = \"{0}-{1}-{2}\".format(s2.day, s2.month, s2.year)\r\n",
        "\r\n",
        "            DF = web.get_data_yahoo(i,start=start_date,end=end_date)\r\n",
        "            Vol_5day = DF.rolling(5).mean()[\"Volume\"]\r\n",
        "            DF[\"Dif\"] = Vol_5day - DF[\"Volume\"]\r\n",
        "            DF['Percentile'] = pd.qcut(DF['Dif'], 100, labels=False)\r\n",
        "          \r\n",
        "            if DF['Percentile'].iloc[-1] >= 90 :\r\n",
        "                print(\"!!!{} today percentile position is {}\" .format(i, DF['Percentile'].iloc[-1]))\r\n",
        "              \r\n",
        "            else :\r\n",
        "                pass\r\n",
        "                             \r\n",
        "        except:\r\n",
        "            continue"
      ],
      "execution_count": 13,
      "outputs": []
    },
    {
      "cell_type": "code",
      "metadata": {
        "colab": {
          "base_uri": "https://localhost:8080/"
        },
        "id": "VEeZMbW8zJXb",
        "outputId": "1f11d586-f8ee-421b-e0fe-35d6890286cc"
      },
      "source": [
        "get_max_Pct_5(Sym_S)"
      ],
      "execution_count": 14,
      "outputs": [
        {
          "output_type": "stream",
          "text": [
            "!!!AGE.BK today percentile position is 91.0\n",
            "!!!AH.BK today percentile position is 97.0\n",
            "!!!AMARIN.BK today percentile position is 98.0\n",
            "!!!APCS.BK today percentile position is 91.0\n",
            "!!!APURE.BK today percentile position is 97.0\n",
            "!!!AS.BK today percentile position is 99.0\n",
            "!!!ASEFA.BK today percentile position is 91.0\n",
            "!!!ASIMAR.BK today percentile position is 99.0\n",
            "!!!B.BK today percentile position is 99.0\n",
            "!!!BAFS.BK today percentile position is 94.0\n",
            "!!!BANPU.BK today percentile position is 98.0\n",
            "!!!BKD.BK today percentile position is 93.0\n",
            "!!!BLA.BK today percentile position is 96.0\n",
            "!!!BRR.BK today percentile position is 93.0\n",
            "!!!CBG.BK today percentile position is 99.0\n",
            "!!!CIMBT.BK today percentile position is 91.0\n",
            "!!!CMAN.BK today percentile position is 92.0\n",
            "!!!CNT.BK today percentile position is 92.0\n",
            "!!!CPF.BK today percentile position is 94.0\n",
            "!!!CSS.BK today percentile position is 99.0\n",
            "!!!CWT.BK today percentile position is 93.0\n",
            "!!!EE.BK today percentile position is 94.0\n",
            "!!!EP.BK today percentile position is 99.0\n",
            "!!!IHL.BK today percentile position is 91.0\n",
            "!!!ILINK.BK today percentile position is 90.0\n",
            "!!!INGRS.BK today percentile position is 98.0\n",
            "!!!J.BK today percentile position is 98.0\n",
            "!!!JUTHA.BK today percentile position is 93.0\n",
            "!!!MBK.BK today percentile position is 91.0\n",
            "!!!MCS.BK today percentile position is 99.0\n",
            "!!!MIDA.BK today percentile position is 94.0\n",
            "!!!MSC.BK today percentile position is 96.0\n",
            "!!!NER.BK today percentile position is 94.0\n",
            "!!!NTV.BK today percentile position is 94.0\n",
            "!!!NVD.BK today percentile position is 96.0\n",
            "!!!PORT.BK today percentile position is 94.0\n",
            "!!!PRIME.BK today percentile position is 99.0\n",
            "!!!RBF.BK today percentile position is 90.0\n",
            "!!!SAT.BK today percentile position is 97.0\n",
            "!!!SCI.BK today percentile position is 98.0\n",
            "!!!SFLEX.BK today percentile position is 92.0\n",
            "!!!SKE.BK today percentile position is 93.0\n",
            "!!!SKN.BK today percentile position is 98.0\n",
            "!!!SLP.BK today percentile position is 95.0\n",
            "!!!SNC.BK today percentile position is 91.0\n",
            "!!!SPALI.BK today percentile position is 96.0\n",
            "!!!SQ.BK today percentile position is 95.0\n",
            "!!!SRICHA.BK today percentile position is 92.0\n",
            "!!!STARK.BK today percentile position is 94.0\n",
            "!!!SUSCO.BK today percentile position is 98.0\n",
            "!!!SVI.BK today percentile position is 93.0\n",
            "!!!SVOA.BK today percentile position is 97.0\n",
            "!!!TFI.BK today percentile position is 99.0\n",
            "!!!TH.BK today percentile position is 97.0\n",
            "!!!TK.BK today percentile position is 99.0\n",
            "!!!TKN.BK today percentile position is 97.0\n",
            "!!!TPBI.BK today percentile position is 90.0\n",
            "!!!TRUBB.BK today percentile position is 94.0\n",
            "!!!TSR.BK today percentile position is 99.0\n",
            "!!!TSTH.BK today percentile position is 95.0\n",
            "!!!TVO.BK today percentile position is 96.0\n",
            "!!!TWPC.BK today percentile position is 94.0\n",
            "!!!UPOIC.BK today percentile position is 92.0\n",
            "!!!UV.BK today percentile position is 96.0\n",
            "!!!VIBHA.BK today percentile position is 98.0\n",
            "!!!7UP.BK today percentile position is 97.0\n"
          ],
          "name": "stdout"
        }
      ]
    },
    {
      "cell_type": "code",
      "metadata": {
        "id": "G99YqOAW2nt_"
      },
      "source": [
        "def get_max_Pct_10 (Major):    \r\n",
        "    for i in Major:\r\n",
        "        try:\r\n",
        "            s1 = datetime.now() - timedelta(400)\r\n",
        "            s2 = datetime.now() - timedelta(2)\r\n",
        "\r\n",
        "            start_date = \"{0}-{1}-{2}\".format(s1.day, s1.month, s1.year)\r\n",
        "            end_date = \"{0}-{1}-{2}\".format(s2.day, s2.month, s2.year)\r\n",
        "\r\n",
        "            DF = web.get_data_yahoo(i,start=start_date,end=end_date)\r\n",
        "            Vol_10day = DF.rolling(10).mean()[\"Volume\"]\r\n",
        "            DF[\"Dif\"] = Vol_10day - DF[\"Volume\"]\r\n",
        "            DF['Percentile'] = pd.qcut(DF['Dif'], 100, labels=False)\r\n",
        "          \r\n",
        "            if DF['Percentile'].iloc[-1] >= 90 :\r\n",
        "                print(\"!!!{} today percentile position is {}\" .format(i, DF['Percentile'].iloc[-1]))\r\n",
        "              \r\n",
        "            else :\r\n",
        "                pass\r\n",
        "                             \r\n",
        "        except:\r\n",
        "            continue"
      ],
      "execution_count": 15,
      "outputs": []
    },
    {
      "cell_type": "code",
      "metadata": {
        "colab": {
          "base_uri": "https://localhost:8080/"
        },
        "id": "DVIJl_Lx2yhU",
        "outputId": "fcdb4234-65c0-4d5d-d13b-d648d1911c19"
      },
      "source": [
        "get_max_Pct_10(Sym_S)"
      ],
      "execution_count": 16,
      "outputs": [
        {
          "output_type": "stream",
          "text": [
            "!!!AGE.BK today percentile position is 91.0\n",
            "!!!AH.BK today percentile position is 94.0\n",
            "!!!AI.BK today percentile position is 91.0\n",
            "!!!AJA.BK today percentile position is 92.0\n",
            "!!!AMARIN.BK today percentile position is 91.0\n",
            "!!!ANAN.BK today percentile position is 91.0\n",
            "!!!APCS.BK today percentile position is 90.0\n",
            "!!!APURE.BK today percentile position is 99.0\n",
            "!!!AS.BK today percentile position is 99.0\n",
            "!!!ASIMAR.BK today percentile position is 99.0\n",
            "!!!AYUD.BK today percentile position is 94.0\n",
            "!!!BANPU.BK today percentile position is 96.0\n",
            "!!!BCPG.BK today percentile position is 92.0\n",
            "!!!BKD.BK today percentile position is 95.0\n",
            "!!!BKI.BK today percentile position is 97.0\n",
            "!!!BLA.BK today percentile position is 96.0\n",
            "!!!CBG.BK today percentile position is 90.0\n",
            "!!!CCP.BK today percentile position is 91.0\n",
            "!!!CPI.BK today percentile position is 97.0\n",
            "!!!CPNCG.BK today percentile position is 93.0\n",
            "!!!CSS.BK today percentile position is 99.0\n",
            "!!!CWT.BK today percentile position is 96.0\n",
            "!!!DDD.BK today percentile position is 93.0\n",
            "!!!EA.BK today percentile position is 97.0\n",
            "!!!EE.BK today percentile position is 98.0\n",
            "!!!EP.BK today percentile position is 99.0\n",
            "!!!EVER.BK today percentile position is 93.0\n",
            "!!!GPSC.BK today percentile position is 93.0\n",
            "!!!HMPRO.BK today percentile position is 92.0\n",
            "!!!IHL.BK today percentile position is 97.0\n",
            "!!!III.BK today percentile position is 93.0\n",
            "!!!INET.BK today percentile position is 96.0\n",
            "!!!INGRS.BK today percentile position is 99.0\n",
            "!!!IT.BK today percentile position is 93.0\n",
            "!!!KCAR.BK today percentile position is 96.0\n",
            "!!!KWG.BK today percentile position is 95.0\n",
            "!!!MCS.BK today percentile position is 95.0\n",
            "!!!METCO.BK today percentile position is 90.0\n",
            "!!!MNRF.BK today percentile position is 99.0\n",
            "!!!NER.BK today percentile position is 95.0\n",
            "!!!NFC.BK today percentile position is 92.0\n",
            "!!!NTV.BK today percentile position is 95.0\n",
            "!!!NVD.BK today percentile position is 93.0\n",
            "!!!PRIME.BK today percentile position is 96.0\n",
            "!!!PSL.BK today percentile position is 92.0\n",
            "!!!QHPF.BK today percentile position is 97.0\n",
            "!!!RJH.BK today percentile position is 91.0\n",
            "!!!SAMCO.BK today percentile position is 98.0\n",
            "!!!SAT.BK today percentile position is 92.0\n",
            "!!!SKE.BK today percentile position is 96.0\n",
            "!!!SLP.BK today percentile position is 94.0\n",
            "!!!SOLAR.BK today percentile position is 93.0\n",
            "!!!SPALI.BK today percentile position is 90.0\n",
            "!!!SRICHA.BK today percentile position is 94.0\n",
            "!!!STARK.BK today percentile position is 96.0\n",
            "!!!SUSCO.BK today percentile position is 91.0\n",
            "!!!SVOA.BK today percentile position is 95.0\n",
            "!!!SYNEX.BK today percentile position is 96.0\n",
            "!!!TCC.BK today percentile position is 93.0\n",
            "!!!TFI.BK today percentile position is 99.0\n",
            "!!!TGPRO.BK today percentile position is 96.0\n",
            "!!!TH.BK today percentile position is 94.0\n",
            "!!!TK.BK today percentile position is 99.0\n",
            "!!!TPA.BK today percentile position is 98.0\n",
            "!!!TPBI.BK today percentile position is 95.0\n",
            "!!!TR.BK today percentile position is 96.0\n",
            "!!!TRUBB.BK today percentile position is 94.0\n",
            "!!!TSR.BK today percentile position is 96.0\n",
            "!!!TSTH.BK today percentile position is 93.0\n",
            "!!!TTA.BK today percentile position is 90.0\n",
            "!!!TVO.BK today percentile position is 94.0\n",
            "!!!UMI.BK today percentile position is 90.0\n",
            "!!!UPOIC.BK today percentile position is 99.0\n",
            "!!!UV.BK today percentile position is 99.0\n",
            "!!!VIBHA.BK today percentile position is 97.0\n",
            "!!!VPO.BK today percentile position is 92.0\n",
            "!!!WIIK.BK today percentile position is 98.0\n",
            "!!!WORK.BK today percentile position is 91.0\n",
            "!!!7UP.BK today percentile position is 94.0\n"
          ],
          "name": "stdout"
        }
      ]
    },
    {
      "cell_type": "code",
      "metadata": {
        "id": "EaKMc_T05onZ"
      },
      "source": [
        ""
      ],
      "execution_count": null,
      "outputs": []
    }
  ]
}