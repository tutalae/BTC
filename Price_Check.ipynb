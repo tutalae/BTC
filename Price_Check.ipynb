{
    "cells": [
        {
            "metadata": {},
            "cell_type": "code",
            "source": "!pip install pandas_datareader",
            "execution_count": 3,
            "outputs": [
                {
                    "output_type": "stream",
                    "text": "Collecting pandas_datareader\n  Downloading pandas_datareader-0.9.0-py3-none-any.whl (107 kB)\n\u001b[K     |\u2588\u2588\u2588\u2588\u2588\u2588\u2588\u2588\u2588\u2588\u2588\u2588\u2588\u2588\u2588\u2588\u2588\u2588\u2588\u2588\u2588\u2588\u2588\u2588\u2588\u2588\u2588\u2588\u2588\u2588\u2588\u2588| 107 kB 16.6 MB/s eta 0:00:01\n\u001b[?25hRequirement already satisfied: pandas>=0.23 in /opt/conda/envs/Python-3.7-main/lib/python3.7/site-packages (from pandas_datareader) (1.0.5)\nRequirement already satisfied: lxml in /opt/conda/envs/Python-3.7-main/lib/python3.7/site-packages (from pandas_datareader) (4.5.1)\nRequirement already satisfied: requests>=2.19.0 in /opt/conda/envs/Python-3.7-main/lib/python3.7/site-packages (from pandas_datareader) (2.24.0)\nRequirement already satisfied: numpy>=1.13.3 in /opt/conda/envs/Python-3.7-main/lib/python3.7/site-packages (from pandas>=0.23->pandas_datareader) (1.18.5)\nRequirement already satisfied: python-dateutil>=2.6.1 in /opt/conda/envs/Python-3.7-main/lib/python3.7/site-packages (from pandas>=0.23->pandas_datareader) (2.8.1)\nRequirement already satisfied: pytz>=2017.2 in /opt/conda/envs/Python-3.7-main/lib/python3.7/site-packages (from pandas>=0.23->pandas_datareader) (2020.1)\nRequirement already satisfied: chardet<4,>=3.0.2 in /opt/conda/envs/Python-3.7-main/lib/python3.7/site-packages (from requests>=2.19.0->pandas_datareader) (3.0.4)\nRequirement already satisfied: urllib3!=1.25.0,!=1.25.1,<1.26,>=1.21.1 in /opt/conda/envs/Python-3.7-main/lib/python3.7/site-packages (from requests>=2.19.0->pandas_datareader) (1.25.9)\nRequirement already satisfied: idna<3,>=2.5 in /opt/conda/envs/Python-3.7-main/lib/python3.7/site-packages (from requests>=2.19.0->pandas_datareader) (2.9)\nRequirement already satisfied: certifi>=2017.4.17 in /opt/conda/envs/Python-3.7-main/lib/python3.7/site-packages (from requests>=2.19.0->pandas_datareader) (2020.12.5)\nRequirement already satisfied: six>=1.5 in /opt/conda/envs/Python-3.7-main/lib/python3.7/site-packages (from python-dateutil>=2.6.1->pandas>=0.23->pandas_datareader) (1.15.0)\nInstalling collected packages: pandas-datareader\nSuccessfully installed pandas-datareader-0.9.0\n",
                    "name": "stdout"
                }
            ]
        },
        {
            "metadata": {},
            "cell_type": "code",
            "source": "import pandas as pd\nimport pandas_datareader.data as web\nimport numpy as np\nimport matplotlib.pyplot as plt\nfrom datetime import datetime, timedelta",
            "execution_count": 4,
            "outputs": []
        },
        {
            "metadata": {},
            "cell_type": "markdown",
            "source": "# Input Symbol from Yahoo finance"
        },
        {
            "metadata": {},
            "cell_type": "code",
            "source": "Symbol = \"AUDUSD=X\"",
            "execution_count": 30,
            "outputs": []
        },
        {
            "metadata": {},
            "cell_type": "code",
            "source": "s1 = datetime.now() - timedelta(365)\ns2 = datetime.now() - timedelta(1)\n\nstart_date = \"{0}-{1}-{2}\".format(s1.day, s1.month, s1.year)\nend_date = \"{0}-{1}-{2}\".format(s2.day, s2.month, s2.year)\n\nDF = web.get_data_yahoo(Symbol,start=start_date,end=end_date)\n\nDF1 = DF[[\"Adj Close\"]]\nDF1[\"Mean35\"] = DF.rolling(35).mean()[[\"Adj Close\"]]\nDF1[\"Dif\"] = abs(DF1[\"Adj Close\"]-DF1['Mean35'])\nmean_dif = DF1[\"Dif\"].mean()",
            "execution_count": 31,
            "outputs": [
                {
                    "output_type": "stream",
                    "text": "/opt/conda/envs/Python-3.7-main/lib/python3.7/site-packages/ipykernel/__main__.py:10: SettingWithCopyWarning: \nA value is trying to be set on a copy of a slice from a DataFrame.\nTry using .loc[row_indexer,col_indexer] = value instead\n\nSee the caveats in the documentation: https://pandas.pydata.org/pandas-docs/stable/user_guide/indexing.html#returning-a-view-versus-a-copy\n/opt/conda/envs/Python-3.7-main/lib/python3.7/site-packages/ipykernel/__main__.py:11: SettingWithCopyWarning: \nA value is trying to be set on a copy of a slice from a DataFrame.\nTry using .loc[row_indexer,col_indexer] = value instead\n\nSee the caveats in the documentation: https://pandas.pydata.org/pandas-docs/stable/user_guide/indexing.html#returning-a-view-versus-a-copy\n",
                    "name": "stderr"
                }
            ]
        },
        {
            "metadata": {},
            "cell_type": "code",
            "source": "if DF1.loc[end_date][\"Dif\"] < mean_dif*3 :\n    print(\"Yesterday trend still going\")\nelse :\n    print(\"Check Price and Check your port\")",
            "execution_count": 32,
            "outputs": [
                {
                    "output_type": "stream",
                    "text": "Yesterday trend still going\n",
                    "name": "stdout"
                }
            ]
        },
        {
            "metadata": {},
            "cell_type": "markdown",
            "source": " ## Show days thar Different in price and Moving average more than 3 time mean"
        },
        {
            "metadata": {},
            "cell_type": "code",
            "source": "DF1[DF1[\"Dif\"] > mean_dif*3]",
            "execution_count": null,
            "outputs": []
        }
    ],
    "metadata": {
        "kernelspec": {
            "name": "python3",
            "display_name": "Python 3.7",
            "language": "python"
        },
        "language_info": {
            "name": "python",
            "version": "3.7.9",
            "mimetype": "text/x-python",
            "codemirror_mode": {
                "name": "ipython",
                "version": 3
            },
            "pygments_lexer": "ipython3",
            "nbconvert_exporter": "python",
            "file_extension": ".py"
        }
    },
    "nbformat": 4,
    "nbformat_minor": 1
}