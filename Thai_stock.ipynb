{
    "cells": [
        {
            "metadata": {},
            "cell_type": "code",
            "source": "!pip install pandas_datareader",
            "execution_count": 14,
            "outputs": [
                {
                    "output_type": "stream",
                    "text": "Requirement already satisfied: pandas_datareader in /opt/conda/envs/Python-3.7-main/lib/python3.7/site-packages (0.9.0)\nRequirement already satisfied: pandas>=0.23 in /opt/conda/envs/Python-3.7-main/lib/python3.7/site-packages (from pandas_datareader) (1.0.5)\nRequirement already satisfied: lxml in /opt/conda/envs/Python-3.7-main/lib/python3.7/site-packages (from pandas_datareader) (4.5.1)\nRequirement already satisfied: requests>=2.19.0 in /opt/conda/envs/Python-3.7-main/lib/python3.7/site-packages (from pandas_datareader) (2.24.0)\nRequirement already satisfied: pytz>=2017.2 in /opt/conda/envs/Python-3.7-main/lib/python3.7/site-packages (from pandas>=0.23->pandas_datareader) (2020.1)\nRequirement already satisfied: numpy>=1.13.3 in /opt/conda/envs/Python-3.7-main/lib/python3.7/site-packages (from pandas>=0.23->pandas_datareader) (1.18.5)\nRequirement already satisfied: python-dateutil>=2.6.1 in /opt/conda/envs/Python-3.7-main/lib/python3.7/site-packages (from pandas>=0.23->pandas_datareader) (2.8.1)\nRequirement already satisfied: certifi>=2017.4.17 in /opt/conda/envs/Python-3.7-main/lib/python3.7/site-packages (from requests>=2.19.0->pandas_datareader) (2020.12.5)\nRequirement already satisfied: chardet<4,>=3.0.2 in /opt/conda/envs/Python-3.7-main/lib/python3.7/site-packages (from requests>=2.19.0->pandas_datareader) (3.0.4)\nRequirement already satisfied: idna<3,>=2.5 in /opt/conda/envs/Python-3.7-main/lib/python3.7/site-packages (from requests>=2.19.0->pandas_datareader) (2.9)\nRequirement already satisfied: urllib3!=1.25.0,!=1.25.1,<1.26,>=1.21.1 in /opt/conda/envs/Python-3.7-main/lib/python3.7/site-packages (from requests>=2.19.0->pandas_datareader) (1.25.9)\nRequirement already satisfied: six>=1.5 in /opt/conda/envs/Python-3.7-main/lib/python3.7/site-packages (from python-dateutil>=2.6.1->pandas>=0.23->pandas_datareader) (1.15.0)\n",
                    "name": "stdout"
                }
            ]
        },
        {
            "metadata": {},
            "cell_type": "code",
            "source": "import pandas as pd\nimport pandas_datareader.data as web\nimport numpy as np\nimport matplotlib.pyplot as plt\nfrom datetime import datetime, timedelta\n\nfrom bs4 import BeautifulSoup\nimport requests\n\nimport urllib\nimport string",
            "execution_count": 15,
            "outputs": []
        },
        {
            "metadata": {},
            "cell_type": "code",
            "source": "Alphabet= string.ascii_uppercase[:26]\nAlphabet = list(Alphabet)\nAlphabet.append(\"NUMBER\")\nurl = []\n\nstock = pd.DataFrame()\n\nfor c, element in enumerate(Alphabet):\n    urlx = \"https://www.set.or.th/set/commonslookup.do?language=th&country=TH&prefix={}\".format(element)\n    url.append(urlx)\n\nurl_df = pd.DataFrame(Alphabet,columns = [\"Index\"])\nurl_df['url'] = url",
            "execution_count": 16,
            "outputs": []
        },
        {
            "metadata": {},
            "cell_type": "code",
            "source": "stock = []\nfor j in url_df['url']:\n    source = requests.get(j).text\n    soup = BeautifulSoup(source, 'html.parser')       \n    table_rows = soup.find_all(\"tr\")\n    for tr in table_rows:\n        td = tr.find_all(\"td\")\n        row = [tr.text for tr in td]\n        stock.append(row)\n    ",
            "execution_count": 17,
            "outputs": []
        },
        {
            "metadata": {},
            "cell_type": "code",
            "source": "columns = [\"Symbol\", \"Thai name\", \"Market\"]\nstock_sym = pd.DataFrame(stock, columns = columns)\nstock_sym.dropna( axis=0, inplace=True)\nstock_sym['Symbol'] = stock_sym['Symbol']+\".BK\"\nstock_sym.head()",
            "execution_count": 18,
            "outputs": [
                {
                    "output_type": "execute_result",
                    "execution_count": 18,
                    "data": {
                        "text/plain": "     Symbol                                 Thai name Market\n1      A.BK  \u0e1a\u0e23\u0e34\u0e29\u0e31\u0e17 \u0e2d\u0e32\u0e23\u0e35\u0e22\u0e32 \u0e1e\u0e23\u0e2d\u0e1e\u0e40\u0e1e\u0e2d\u0e23\u0e4c\u0e15\u0e35\u0e49 \u0e08\u0e33\u0e01\u0e31\u0e14 (\u0e21\u0e2b\u0e32\u0e0a\u0e19)    SET\n2     A5.BK    \u0e1a\u0e23\u0e34\u0e29\u0e31\u0e17 \u0e41\u0e2d\u0e2a\u0e40\u0e0b\u0e17 \u0e44\u0e1f\u0e27\u0e4c \u0e01\u0e23\u0e38\u0e4a\u0e1b \u0e08\u0e33\u0e01\u0e31\u0e14 (\u0e21\u0e2b\u0e32\u0e0a\u0e19)    mai\n3    AAV.BK    \u0e1a\u0e23\u0e34\u0e29\u0e31\u0e17 \u0e40\u0e2d\u0e40\u0e0a\u0e35\u0e22 \u0e40\u0e2d\u0e27\u0e34\u0e40\u0e2d\u0e0a\u0e31\u0e48\u0e19 \u0e08\u0e33\u0e01\u0e31\u0e14 (\u0e21\u0e2b\u0e32\u0e0a\u0e19)    SET\n4  ABICO.BK    \u0e1a\u0e23\u0e34\u0e29\u0e31\u0e17 \u0e40\u0e2d\u0e1a\u0e34\u0e42\u0e01\u0e49 \u0e42\u0e2e\u0e25\u0e14\u0e34\u0e49\u0e07\u0e2a\u0e4c \u0e08\u0e33\u0e01\u0e31\u0e14 (\u0e21\u0e2b\u0e32\u0e0a\u0e19)    mai\n5    ABM.BK       \u0e1a\u0e23\u0e34\u0e29\u0e31\u0e17 \u0e40\u0e2d\u0e40\u0e0a\u0e35\u0e22 \u0e44\u0e1a\u0e42\u0e2d\u0e41\u0e21\u0e2a \u0e08\u0e33\u0e01\u0e31\u0e14 (\u0e21\u0e2b\u0e32\u0e0a\u0e19)    mai",
                        "text/html": "<div>\n<style scoped>\n    .dataframe tbody tr th:only-of-type {\n        vertical-align: middle;\n    }\n\n    .dataframe tbody tr th {\n        vertical-align: top;\n    }\n\n    .dataframe thead th {\n        text-align: right;\n    }\n</style>\n<table border=\"1\" class=\"dataframe\">\n  <thead>\n    <tr style=\"text-align: right;\">\n      <th></th>\n      <th>Symbol</th>\n      <th>Thai name</th>\n      <th>Market</th>\n    </tr>\n  </thead>\n  <tbody>\n    <tr>\n      <th>1</th>\n      <td>A.BK</td>\n      <td>\u0e1a\u0e23\u0e34\u0e29\u0e31\u0e17 \u0e2d\u0e32\u0e23\u0e35\u0e22\u0e32 \u0e1e\u0e23\u0e2d\u0e1e\u0e40\u0e1e\u0e2d\u0e23\u0e4c\u0e15\u0e35\u0e49 \u0e08\u0e33\u0e01\u0e31\u0e14 (\u0e21\u0e2b\u0e32\u0e0a\u0e19)</td>\n      <td>SET</td>\n    </tr>\n    <tr>\n      <th>2</th>\n      <td>A5.BK</td>\n      <td>\u0e1a\u0e23\u0e34\u0e29\u0e31\u0e17 \u0e41\u0e2d\u0e2a\u0e40\u0e0b\u0e17 \u0e44\u0e1f\u0e27\u0e4c \u0e01\u0e23\u0e38\u0e4a\u0e1b \u0e08\u0e33\u0e01\u0e31\u0e14 (\u0e21\u0e2b\u0e32\u0e0a\u0e19)</td>\n      <td>mai</td>\n    </tr>\n    <tr>\n      <th>3</th>\n      <td>AAV.BK</td>\n      <td>\u0e1a\u0e23\u0e34\u0e29\u0e31\u0e17 \u0e40\u0e2d\u0e40\u0e0a\u0e35\u0e22 \u0e40\u0e2d\u0e27\u0e34\u0e40\u0e2d\u0e0a\u0e31\u0e48\u0e19 \u0e08\u0e33\u0e01\u0e31\u0e14 (\u0e21\u0e2b\u0e32\u0e0a\u0e19)</td>\n      <td>SET</td>\n    </tr>\n    <tr>\n      <th>4</th>\n      <td>ABICO.BK</td>\n      <td>\u0e1a\u0e23\u0e34\u0e29\u0e31\u0e17 \u0e40\u0e2d\u0e1a\u0e34\u0e42\u0e01\u0e49 \u0e42\u0e2e\u0e25\u0e14\u0e34\u0e49\u0e07\u0e2a\u0e4c \u0e08\u0e33\u0e01\u0e31\u0e14 (\u0e21\u0e2b\u0e32\u0e0a\u0e19)</td>\n      <td>mai</td>\n    </tr>\n    <tr>\n      <th>5</th>\n      <td>ABM.BK</td>\n      <td>\u0e1a\u0e23\u0e34\u0e29\u0e31\u0e17 \u0e40\u0e2d\u0e40\u0e0a\u0e35\u0e22 \u0e44\u0e1a\u0e42\u0e2d\u0e41\u0e21\u0e2a \u0e08\u0e33\u0e01\u0e31\u0e14 (\u0e21\u0e2b\u0e32\u0e0a\u0e19)</td>\n      <td>mai</td>\n    </tr>\n  </tbody>\n</table>\n</div>"
                    },
                    "metadata": {}
                }
            ]
        },
        {
            "metadata": {},
            "cell_type": "code",
            "source": "stock_sym.info()",
            "execution_count": 19,
            "outputs": [
                {
                    "output_type": "stream",
                    "text": "<class 'pandas.core.frame.DataFrame'>\nInt64Index: 812 entries, 1 to 838\nData columns (total 3 columns):\n #   Column     Non-Null Count  Dtype \n---  ------     --------------  ----- \n 0   Symbol     812 non-null    object\n 1   Thai name  812 non-null    object\n 2   Market     812 non-null    object\ndtypes: object(3)\nmemory usage: 25.4+ KB\n",
                    "name": "stdout"
                }
            ]
        },
        {
            "metadata": {},
            "cell_type": "code",
            "source": "Sym_SET = stock_sym[stock_sym[\"Market\"]==\"SET\"]\nSym_S = Sym_SET[\"Symbol\"]\nSym_S = Sym_S.reset_index(drop = True)",
            "execution_count": 20,
            "outputs": []
        },
        {
            "metadata": {},
            "cell_type": "code",
            "source": "def get_mean_dif3 (Major):\n    for i in Major:\n        try:\n            \n            s1 = datetime.now() - timedelta(400)\n            s2 = datetime.now() - timedelta(2)\n        \n            start_date = \"{0}-{1}-{2}\".format(s1.day, s1.month, s1.year)\n            end_date = \"{0}-{1}-{2}\".format(s2.day, s2.month, s2.year)\n\n            DF = web.get_data_yahoo(i,start=start_date,end=end_date)\n            \n            DF1 = DF[[\"Adj Close\"]]\n            DF1[\"Mean35\"] = DF.rolling(35).mean()[[\"Adj Close\"]]\n            DF1[\"Dif\"] = abs(DF1[\"Adj Close\"]-DF1['Mean35'])\n            mean_dif = DF1[\"Dif\"].mean()\n        \n            DFtotal = DF.merge(DF1, on = \"Date\")\n            DFtotal.drop(columns = [\"Adj Close_y\"], inplace = True)\n            DFtotalP = DFtotal.copy()\n            DFtotalP[\"Dif Pct\"] = (DFtotalP[\"Dif\"]/DFtotalP[\"Adj Close_x\"])*100\n            DFtotalP.dropna(inplace =True, axis = 0)\n            Dper = DFtotalP[\"Dif Pct\"][-1]\n            Price = DFtotalP[\"Adj Close_x\"][-1]\n        \n        \n            if DF1.loc[end_date][\"Dif\"] < mean_dif*3 :\n                print(\"{} Yesterday price is {} trend still going, Diff percent from Moving average Day 35 is {} %\".format(i, Price, Dper))\n            else :\n                print(\"!!! {} price is {} Check Price ,Diff percent from Moving average Day 35 ({} %) is too High !!!\".format(i, Price, Dper))\n        except:\n            continue\n\n        \n        ",
            "execution_count": 21,
            "outputs": []
        },
        {
            "metadata": {},
            "cell_type": "code",
            "source": "def get_max (Major):    \n    for i in Major:\n        try:\n            s1 = datetime.now() - timedelta(400)\n            s2 = datetime.now() - timedelta(2)\n\n            start_date = \"{0}-{1}-{2}\".format(s1.day, s1.month, s1.year)\n            end_date = \"{0}-{1}-{2}\".format(s2.day, s2.month, s2.year)\n\n            DF = web.get_data_yahoo(i,start=start_date,end=end_date)\n            Vol_5day = DF.rolling(5).mean()[\"Volume\"]\n            \n            \n            if DF['Volume'].iloc[-1] >= DF['Volume'].max() :\n                if Vol_5day.iloc[-1] > 10000000 :\n                    print(\"!!!{} today volume is max Vol and have mean Vol of 5 day before > 10 M!!!\" .format(i))\n                else :\n                    print(\"{} Vol max but junk\".format(i))\n            else :\n                print(\"{} today volume is not max\" .format(i))\n                             \n        except:\n            continue",
            "execution_count": 13,
            "outputs": []
        },
        {
            "metadata": {},
            "cell_type": "code",
            "source": "get_max(Sym_S)",
            "execution_count": null,
            "outputs": [
                {
                    "output_type": "stream",
                    "text": "A.BK today volume is not max\nAAV.BK today volume is not max\nABPIF.BK today volume is not max\nACC.BK today volume is not max\nACE.BK today volume is not max\nACG.BK today volume is not max\nADVANC.BK today volume is not max\nAEC.BK today volume is not max\nAEONTS.BK today volume is not max\nAFC.BK today volume is not max\nAGE.BK today volume is not max\nAH.BK today volume is not max\nAHC.BK today volume is not max\nAI.BK today volume is not max\nAIMCG.BK today volume is not max\nAIMIRT.BK today volume is not max\nAIT.BK today volume is not max\nAJ.BK today volume is not max\nAJA.BK today volume is not max\nAKR.BK today volume is not max\nALLA.BK today volume is not max\nALT.BK today volume is not max\nALUCON.BK today volume is not max\nAMANAH.BK today volume is not max\nAMARIN.BK today volume is not max\nAMATA.BK today volume is not max\nAMATAR.BK today volume is not max\nAMATAV.BK today volume is not max\nAMC.BK today volume is not max\nANAN.BK today volume is not max\nAOT.BK today volume is not max\nAP.BK today volume is not max\nAPCO.BK today volume is not max\nAPCS.BK today volume is not max\nAPEX.BK today volume is not max\nAPURE.BK today volume is not max\nAQ.BK today volume is not max\nAQUA.BK today volume is not max\nAS.BK today volume is not max\nASAP.BK today volume is not max\nASEFA.BK today volume is not max\nASIA.BK today volume is not max\nASIAN.BK today volume is not max\nASIMAR.BK today volume is not max\nASK.BK today volume is not max\nASP.BK today volume is not max\nAWC.BK today volume is not max\nAYUD.BK today volume is not max\nB.BK today volume is not max\nB-WORK.BK today volume is not max\nB52.BK today volume is not max\nBA.BK today volume is not max\nBAFS.BK today volume is not max\nBAM.BK today volume is not max\nBANPU.BK today volume is not max\nBAY.BK today volume is not max\nBBL.BK today volume is not max\nBCH.BK today volume is not max\nBCP.BK today volume is not max\nBCPG.BK today volume is not max\nBCT.BK today volume is not max\nBDMS.BK today volume is not max\nBEAUTY.BK today volume is not max\nBEC.BK today volume is not max\nBEM.BK today volume is not max\nBFIT.BK today volume is not max\nBGC.BK today volume is not max\nBGRIM.BK today volume is not max\nBH.BK today volume is not max\nBIG.BK today volume is not max\nBJC.BK today volume is not max\nBJCHI.BK today volume is not max\nBKD.BK today volume is not max\nBKER.BK Vol max but junk\nBKI.BK today volume is not max\nBKKCP.BK today volume is not max\nBLA.BK today volume is not max\nBLAND.BK today volume is not max\nBOFFICE.BK today volume is not max\nBPP.BK today volume is not max\nBR.BK today volume is not max\nBROCK.BK today volume is not max\nBRR.BK today volume is not max\nBRRGIF.BK today volume is not max\nBSBM.BK today volume is not max\nBTNC.BK today volume is not max\nBTS.BK today volume is not max\nBTSGIF.BK today volume is not max\nBUI.BK today volume is not max\nBWG.BK today volume is not max\nCBG.BK today volume is not max\nCCET.BK today volume is not max\nCCP.BK today volume is not max\nCEN.BK today volume is not max\nCENTEL.BK today volume is not max\nCFRESH.BK today volume is not max\nCGD.BK today volume is not max\nCGH.BK today volume is not max\nCHARAN.BK today volume is not max\nCHAYO.BK today volume is not max\nCHG.BK today volume is not max\nCHOTI.BK today volume is not max\nCI.BK today volume is not max\nCIMBT.BK today volume is not max\nCITY.BK today volume is not max\nCK.BK today volume is not max\nCKP.BK today volume is not max\nCM.BK today volume is not max\nCMAN.BK today volume is not max\nCMR.BK today volume is not max\nCNT.BK today volume is not max\nCOL.BK today volume is not max\nCOM7.BK today volume is not max\nCOTTO.BK today volume is not max\nCPALL.BK today volume is not max\nCPF.BK today volume is not max\nCPH.BK today volume is not max\nCPI.BK today volume is not max\nCPL.BK today volume is not max\nCPN.BK today volume is not max\nCPNCG.BK today volume is not max\nCPNREIT.BK today volume is not max\nCPT.BK today volume is not max\nCPTGF.BK today volume is not max\nCPW.BK today volume is not max\nCRANE.BK today volume is not max\nCRC.BK today volume is not max\nCSC.BK today volume is not max\nCSP.BK today volume is not max\nCSR.BK today volume is not max\nCSS.BK today volume is not max\nCTARAF.BK today volume is not max\nCTW.BK today volume is not max\nCWT.BK today volume is not max\nDCC.BK today volume is not max\nDCON.BK today volume is not max\nDDD.BK today volume is not max\nDELTA.BK today volume is not max\nDEMCO.BK today volume is not max\nDIF.BK today volume is not max\nDOHOME.BK today volume is not max\nDREIT.BK today volume is not max\nDRT.BK today volume is not max\nDTAC.BK today volume is not max\nDTC.BK today volume is not max\nDTCI.BK today volume is not max\nEA.BK today volume is not max\nEASON.BK today volume is not max\nEASTW.BK today volume is not max\nECL.BK today volume is not max\nEE.BK today volume is not max\nEGATIF.BK today volume is not max\nEGCO.BK today volume is not max\nEKH.BK today volume is not max\nEMC.BK today volume is not max\nEP.BK today volume is not max\nEPG.BK today volume is not max\nERW.BK today volume is not max\nERWPF.BK today volume is not max\nESSO.BK today volume is not max\nESTAR.BK today volume is not max\nETC.BK today volume is not max\nEVER.BK today volume is not max\nF&D.BK today volume is not max\nFANCY.BK today volume is not max\nFE.BK today volume is not max\nFMT.BK today volume is not max\nFN.BK today volume is not max\nFNS.BK today volume is not max\nFORTH.BK today volume is not max\nFPT.BK today volume is not max\nFSS.BK today volume is not max\nFTE.BK today volume is not max\nFTREIT.BK today volume is not max\nFUTUREPF.BK today volume is not max\nGAHREIT.BK today volume is not max\nGBX.BK today volume is not max\nGC.BK today volume is not max\nGEL.BK today volume is not max\nGENCO.BK today volume is not max\nGFPT.BK today volume is not max\nGGC.BK today volume is not max\nGIFT.BK today volume is not max\nGJS.BK today volume is not max\nGL.BK today volume is not max\nGLAND.BK today volume is not max\nGLOBAL.BK today volume is not max\nGLOCON.BK today volume is not max\nGOLDPF.BK today volume is not max\nGPI.BK today volume is not max\nGPSC.BK today volume is not max\nGRAMMY.BK today volume is not max\nGRAND.BK today volume is not max\nGREEN.BK today volume is not max\nGSTEEL.BK Vol max but junk\nGULF.BK today volume is not max\nGUNKUL.BK today volume is not max\nGVREIT.BK today volume is not max\nGYT.BK today volume is not max\nHANA.BK today volume is not max\nHFT.BK today volume is not max\nHMPRO.BK today volume is not max\nHPF.BK today volume is not max\nHREIT.BK today volume is not max\nHTC.BK today volume is not max\nHTECH.BK today volume is not max\nHUMAN.BK today volume is not max\nICC.BK today volume is not max\nICHI.BK today volume is not max\nIFEC.BK Vol max but junk\nIFS.BK today volume is not max\nIHL.BK today volume is not max\nIII.BK today volume is not max\nILINK.BK today volume is not max\nILM.BK today volume is not max\nIMPACT.BK today volume is not max\nINET.BK today volume is not max\nINGRS.BK today volume is not max\nINOX.BK today volume is not max\nINSURE.BK today volume is not max\nINTUCH.BK today volume is not max\nIRC.BK today volume is not max\nIRPC.BK today volume is not max\nIT.BK today volume is not max\nITD.BK today volume is not max\nIVL.BK today volume is not max\nJ.BK today volume is not max\nJAS.BK today volume is not max\nJASIF.BK today volume is not max\nJCK.BK today volume is not max\nJCT.BK today volume is not max\nJKN.BK today volume is not max\nJMART.BK today volume is not max\nJMT.BK today volume is not max\nJR.BK today volume is not max\nJTS.BK today volume is not max\nJUTHA.BK today volume is not max\nJWD.BK today volume is not max\nKAMART.BK today volume is not max\nKBANK.BK today volume is not max\nKBS.BK today volume is not max\nKC.BK Vol max but junk\nKCAR.BK today volume is not max\nKCE.BK today volume is not max\nKDH.BK today volume is not max\nKEX.BK today volume is not max\nKGI.BK today volume is not max\nKKC.BK today volume is not max\nKKP.BK today volume is not max\nKPNPF.BK today volume is not max\nKSL.BK today volume is not max\nKTB.BK today volume is not max\nKTC.BK today volume is not max\nKTIS.BK today volume is not max\nKWC.BK today volume is not max\nKWG.BK today volume is not max\nKYE.BK today volume is not max\nL&E.BK today volume is not max\nLALIN.BK today volume is not max\n",
                    "name": "stdout"
                },
                {
                    "output_type": "stream",
                    "text": "LANNA.BK today volume is not max\nLEE.BK today volume is not max\nLH.BK today volume is not max\nLHFG.BK today volume is not max\nLHHOTEL.BK today volume is not max\nLHK.BK today volume is not max\nLHPF.BK today volume is not max\nLHSC.BK today volume is not max\nLOXLEY.BK today volume is not max\nLPH.BK today volume is not max\nLPN.BK today volume is not max\nLRH.BK today volume is not max\nLST.BK today volume is not max\nLUXF.BK today volume is not max\nM.BK today volume is not max\nM-CHAI.BK today volume is not max\nM-II.BK today volume is not max\nM-STOR.BK today volume is not max\nMACO.BK today volume is not max\nMAJOR.BK today volume is not max\nMAKRO.BK today volume is not max\nMALEE.BK today volume is not max\nMANRIN.BK today volume is not max\nMATCH.BK today volume is not max\nMATI.BK today volume is not max\nMAX.BK today volume is not max\nMBK.BK today volume is not max\nMBKET.BK today volume is not max\nMC.BK today volume is not max\nMCOT.BK today volume is not max\nMCS.BK today volume is not max\nMDX.BK Vol max but junk\nMEGA.BK today volume is not max\nMETCO.BK today volume is not max\nMFC.BK today volume is not max\nMFEC.BK today volume is not max\nMICRO.BK today volume is not max\nMIDA.BK today volume is not max\nMILL.BK today volume is not max\nMINT.BK today volume is not max\nMIPF.BK today volume is not max\nMIT.BK today volume is not max\nMJD.BK today volume is not max\nMJLF.BK today volume is not max\nMK.BK today volume is not max\nML.BK today volume is not max\nMNIT.BK today volume is not max\nMNIT2.BK today volume is not max\nMNRF.BK today volume is not max\nMODERN.BK today volume is not max\nMONO.BK today volume is not max\nMPIC.BK today volume is not max\nMSC.BK today volume is not max\nMTC.BK today volume is not max\nMTI.BK today volume is not max\nNC.BK today volume is not max\nNCAP.BK today volume is not max\nNCH.BK today volume is not max\nNEP.BK today volume is not max\nNER.BK today volume is not max\nNEW.BK today volume is not max\nNEX.BK today volume is not max\nNFC.BK today volume is not max\nNKI.BK today volume is not max\nNMG.BK Vol max but junk\nNNCL.BK today volume is not max\nNOBLE.BK today volume is not max\nNOK.BK today volume is not max\nNRF.BK today volume is not max\nNSI.BK today volume is not max\nNTV.BK today volume is not max\nNUSA.BK today volume is not max\nNVD.BK today volume is not max\nNWR.BK today volume is not max\nNYT.BK today volume is not max\nOCC.BK today volume is not max\nOGC.BK Vol max but junk\nOHTL.BK today volume is not max\nOISHI.BK today volume is not max\nORI.BK today volume is not max\nOSP.BK today volume is not max\nPACE.BK today volume is not max\nPAF.BK today volume is not max\n",
                    "name": "stdout"
                }
            ]
        },
        {
            "metadata": {},
            "cell_type": "code",
            "source": "get_mean_dif3(Sym_S)",
            "execution_count": null,
            "outputs": []
        },
        {
            "metadata": {},
            "cell_type": "code",
            "source": "",
            "execution_count": 11,
            "outputs": []
        },
        {
            "metadata": {},
            "cell_type": "code",
            "source": "",
            "execution_count": null,
            "outputs": []
        },
        {
            "metadata": {},
            "cell_type": "code",
            "source": "",
            "execution_count": null,
            "outputs": []
        },
        {
            "metadata": {},
            "cell_type": "code",
            "source": "",
            "execution_count": null,
            "outputs": []
        },
        {
            "metadata": {},
            "cell_type": "code",
            "source": "",
            "execution_count": null,
            "outputs": []
        },
        {
            "metadata": {},
            "cell_type": "code",
            "source": "",
            "execution_count": null,
            "outputs": []
        },
        {
            "metadata": {},
            "cell_type": "code",
            "source": "",
            "execution_count": null,
            "outputs": []
        },
        {
            "metadata": {},
            "cell_type": "code",
            "source": "",
            "execution_count": null,
            "outputs": []
        },
        {
            "metadata": {},
            "cell_type": "code",
            "source": "",
            "execution_count": null,
            "outputs": []
        },
        {
            "metadata": {},
            "cell_type": "code",
            "source": "",
            "execution_count": null,
            "outputs": []
        },
        {
            "metadata": {},
            "cell_type": "code",
            "source": "",
            "execution_count": null,
            "outputs": []
        }
    ],
    "metadata": {
        "kernelspec": {
            "name": "python3",
            "display_name": "Python 3.7",
            "language": "python"
        },
        "language_info": {
            "name": "python",
            "version": "3.7.9",
            "mimetype": "text/x-python",
            "codemirror_mode": {
                "name": "ipython",
                "version": 3
            },
            "pygments_lexer": "ipython3",
            "nbconvert_exporter": "python",
            "file_extension": ".py"
        }
    },
    "nbformat": 4,
    "nbformat_minor": 1
}