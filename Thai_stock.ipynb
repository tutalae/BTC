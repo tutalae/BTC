{
    "cells": [
        {
            "metadata": {},
            "cell_type": "code",
            "source": "!pip install pandas_datareader",
            "execution_count": 1,
            "outputs": [
                {
                    "output_type": "stream",
                    "text": "Requirement already satisfied: pandas_datareader in /opt/conda/envs/Python-3.7-main/lib/python3.7/site-packages (0.9.0)\nRequirement already satisfied: pandas>=0.23 in /opt/conda/envs/Python-3.7-main/lib/python3.7/site-packages (from pandas_datareader) (1.0.5)\nRequirement already satisfied: requests>=2.19.0 in /opt/conda/envs/Python-3.7-main/lib/python3.7/site-packages (from pandas_datareader) (2.24.0)\nRequirement already satisfied: lxml in /opt/conda/envs/Python-3.7-main/lib/python3.7/site-packages (from pandas_datareader) (4.5.1)\nRequirement already satisfied: python-dateutil>=2.6.1 in /opt/conda/envs/Python-3.7-main/lib/python3.7/site-packages (from pandas>=0.23->pandas_datareader) (2.8.1)\nRequirement already satisfied: numpy>=1.13.3 in /opt/conda/envs/Python-3.7-main/lib/python3.7/site-packages (from pandas>=0.23->pandas_datareader) (1.18.5)\nRequirement already satisfied: pytz>=2017.2 in /opt/conda/envs/Python-3.7-main/lib/python3.7/site-packages (from pandas>=0.23->pandas_datareader) (2020.1)\nRequirement already satisfied: idna<3,>=2.5 in /opt/conda/envs/Python-3.7-main/lib/python3.7/site-packages (from requests>=2.19.0->pandas_datareader) (2.9)\nRequirement already satisfied: chardet<4,>=3.0.2 in /opt/conda/envs/Python-3.7-main/lib/python3.7/site-packages (from requests>=2.19.0->pandas_datareader) (3.0.4)\nRequirement already satisfied: urllib3!=1.25.0,!=1.25.1,<1.26,>=1.21.1 in /opt/conda/envs/Python-3.7-main/lib/python3.7/site-packages (from requests>=2.19.0->pandas_datareader) (1.25.9)\nRequirement already satisfied: certifi>=2017.4.17 in /opt/conda/envs/Python-3.7-main/lib/python3.7/site-packages (from requests>=2.19.0->pandas_datareader) (2020.12.5)\nRequirement already satisfied: six>=1.5 in /opt/conda/envs/Python-3.7-main/lib/python3.7/site-packages (from python-dateutil>=2.6.1->pandas>=0.23->pandas_datareader) (1.15.0)\n",
                    "name": "stdout"
                }
            ]
        },
        {
            "metadata": {},
            "cell_type": "code",
            "source": "import pandas as pd\nimport pandas_datareader.data as web\nimport numpy as np\nimport matplotlib.pyplot as plt\nfrom datetime import datetime, timedelta\n\nfrom bs4 import BeautifulSoup\nimport requests\n\nimport urllib\nimport string",
            "execution_count": 2,
            "outputs": []
        },
        {
            "metadata": {},
            "cell_type": "code",
            "source": "Alphabet= string.ascii_uppercase[:26]\nAlphabet = list(Alphabet)\nAlphabet.append(\"NUMBER\")\nurl = []\n\nstock = pd.DataFrame()\n\nfor c, element in enumerate(Alphabet):\n    urlx = \"https://www.set.or.th/set/commonslookup.do?language=th&country=TH&prefix={}\".format(element)\n    url.append(urlx)\n\nurl_df = pd.DataFrame(Alphabet,columns = [\"Index\"])\nurl_df['url'] = url",
            "execution_count": 3,
            "outputs": []
        },
        {
            "metadata": {},
            "cell_type": "code",
            "source": "stock = []\nfor j in url_df['url']:\n    source = requests.get(j).text\n    soup = BeautifulSoup(source, 'html.parser')       \n    table_rows = soup.find_all(\"tr\")\n    for tr in table_rows:\n        td = tr.find_all(\"td\")\n        row = [tr.text for tr in td]\n        stock.append(row)\n    ",
            "execution_count": 4,
            "outputs": []
        },
        {
            "metadata": {},
            "cell_type": "code",
            "source": "columns = [\"Symbol\", \"Thai name\", \"Market\"]\nstock_sym = pd.DataFrame(stock, columns = columns)\nstock_sym.dropna( axis=0, inplace=True)\nstock_sym['Symbol'] = stock_sym['Symbol']+\".BK\"\nstock_sym.head()",
            "execution_count": 5,
            "outputs": [
                {
                    "output_type": "execute_result",
                    "execution_count": 5,
                    "data": {
                        "text/plain": "     Symbol                                 Thai name Market\n1      A.BK  \u0e1a\u0e23\u0e34\u0e29\u0e31\u0e17 \u0e2d\u0e32\u0e23\u0e35\u0e22\u0e32 \u0e1e\u0e23\u0e2d\u0e1e\u0e40\u0e1e\u0e2d\u0e23\u0e4c\u0e15\u0e35\u0e49 \u0e08\u0e33\u0e01\u0e31\u0e14 (\u0e21\u0e2b\u0e32\u0e0a\u0e19)    SET\n2     A5.BK    \u0e1a\u0e23\u0e34\u0e29\u0e31\u0e17 \u0e41\u0e2d\u0e2a\u0e40\u0e0b\u0e17 \u0e44\u0e1f\u0e27\u0e4c \u0e01\u0e23\u0e38\u0e4a\u0e1b \u0e08\u0e33\u0e01\u0e31\u0e14 (\u0e21\u0e2b\u0e32\u0e0a\u0e19)    mai\n3    AAV.BK    \u0e1a\u0e23\u0e34\u0e29\u0e31\u0e17 \u0e40\u0e2d\u0e40\u0e0a\u0e35\u0e22 \u0e40\u0e2d\u0e27\u0e34\u0e40\u0e2d\u0e0a\u0e31\u0e48\u0e19 \u0e08\u0e33\u0e01\u0e31\u0e14 (\u0e21\u0e2b\u0e32\u0e0a\u0e19)    SET\n4  ABICO.BK    \u0e1a\u0e23\u0e34\u0e29\u0e31\u0e17 \u0e40\u0e2d\u0e1a\u0e34\u0e42\u0e01\u0e49 \u0e42\u0e2e\u0e25\u0e14\u0e34\u0e49\u0e07\u0e2a\u0e4c \u0e08\u0e33\u0e01\u0e31\u0e14 (\u0e21\u0e2b\u0e32\u0e0a\u0e19)    mai\n5    ABM.BK       \u0e1a\u0e23\u0e34\u0e29\u0e31\u0e17 \u0e40\u0e2d\u0e40\u0e0a\u0e35\u0e22 \u0e44\u0e1a\u0e42\u0e2d\u0e41\u0e21\u0e2a \u0e08\u0e33\u0e01\u0e31\u0e14 (\u0e21\u0e2b\u0e32\u0e0a\u0e19)    mai",
                        "text/html": "<div>\n<style scoped>\n    .dataframe tbody tr th:only-of-type {\n        vertical-align: middle;\n    }\n\n    .dataframe tbody tr th {\n        vertical-align: top;\n    }\n\n    .dataframe thead th {\n        text-align: right;\n    }\n</style>\n<table border=\"1\" class=\"dataframe\">\n  <thead>\n    <tr style=\"text-align: right;\">\n      <th></th>\n      <th>Symbol</th>\n      <th>Thai name</th>\n      <th>Market</th>\n    </tr>\n  </thead>\n  <tbody>\n    <tr>\n      <th>1</th>\n      <td>A.BK</td>\n      <td>\u0e1a\u0e23\u0e34\u0e29\u0e31\u0e17 \u0e2d\u0e32\u0e23\u0e35\u0e22\u0e32 \u0e1e\u0e23\u0e2d\u0e1e\u0e40\u0e1e\u0e2d\u0e23\u0e4c\u0e15\u0e35\u0e49 \u0e08\u0e33\u0e01\u0e31\u0e14 (\u0e21\u0e2b\u0e32\u0e0a\u0e19)</td>\n      <td>SET</td>\n    </tr>\n    <tr>\n      <th>2</th>\n      <td>A5.BK</td>\n      <td>\u0e1a\u0e23\u0e34\u0e29\u0e31\u0e17 \u0e41\u0e2d\u0e2a\u0e40\u0e0b\u0e17 \u0e44\u0e1f\u0e27\u0e4c \u0e01\u0e23\u0e38\u0e4a\u0e1b \u0e08\u0e33\u0e01\u0e31\u0e14 (\u0e21\u0e2b\u0e32\u0e0a\u0e19)</td>\n      <td>mai</td>\n    </tr>\n    <tr>\n      <th>3</th>\n      <td>AAV.BK</td>\n      <td>\u0e1a\u0e23\u0e34\u0e29\u0e31\u0e17 \u0e40\u0e2d\u0e40\u0e0a\u0e35\u0e22 \u0e40\u0e2d\u0e27\u0e34\u0e40\u0e2d\u0e0a\u0e31\u0e48\u0e19 \u0e08\u0e33\u0e01\u0e31\u0e14 (\u0e21\u0e2b\u0e32\u0e0a\u0e19)</td>\n      <td>SET</td>\n    </tr>\n    <tr>\n      <th>4</th>\n      <td>ABICO.BK</td>\n      <td>\u0e1a\u0e23\u0e34\u0e29\u0e31\u0e17 \u0e40\u0e2d\u0e1a\u0e34\u0e42\u0e01\u0e49 \u0e42\u0e2e\u0e25\u0e14\u0e34\u0e49\u0e07\u0e2a\u0e4c \u0e08\u0e33\u0e01\u0e31\u0e14 (\u0e21\u0e2b\u0e32\u0e0a\u0e19)</td>\n      <td>mai</td>\n    </tr>\n    <tr>\n      <th>5</th>\n      <td>ABM.BK</td>\n      <td>\u0e1a\u0e23\u0e34\u0e29\u0e31\u0e17 \u0e40\u0e2d\u0e40\u0e0a\u0e35\u0e22 \u0e44\u0e1a\u0e42\u0e2d\u0e41\u0e21\u0e2a \u0e08\u0e33\u0e01\u0e31\u0e14 (\u0e21\u0e2b\u0e32\u0e0a\u0e19)</td>\n      <td>mai</td>\n    </tr>\n  </tbody>\n</table>\n</div>"
                    },
                    "metadata": {}
                }
            ]
        },
        {
            "metadata": {},
            "cell_type": "code",
            "source": "stock_sym.info()",
            "execution_count": 6,
            "outputs": [
                {
                    "output_type": "stream",
                    "text": "<class 'pandas.core.frame.DataFrame'>\nInt64Index: 812 entries, 1 to 838\nData columns (total 3 columns):\n #   Column     Non-Null Count  Dtype \n---  ------     --------------  ----- \n 0   Symbol     812 non-null    object\n 1   Thai name  812 non-null    object\n 2   Market     812 non-null    object\ndtypes: object(3)\nmemory usage: 25.4+ KB\n",
                    "name": "stdout"
                }
            ]
        },
        {
            "metadata": {},
            "cell_type": "code",
            "source": "Sym_SET = stock_sym[stock_sym[\"Market\"]==\"SET\"]\nSym_S = Sym_SET[\"Symbol\"]\nSym_S = Sym_S.reset_index(drop = True)",
            "execution_count": 7,
            "outputs": []
        },
        {
            "metadata": {},
            "cell_type": "code",
            "source": "def get_mean_dif3 (Major):\n   \n        for i in Major:\n            s1 = datetime.now() - timedelta(400)\n            s2 = datetime.now() - timedelta(2)\n        \n            start_date = \"{0}-{1}-{2}\".format(s1.day, s1.month, s1.year)\n            end_date = \"{0}-{1}-{2}\".format(s2.day, s2.month, s2.year)\n\n            DF = web.get_data_yahoo(i,start=start_date,end=end_date)\n            \n            DF1 = DF[[\"Adj Close\"]]\n            DF1[\"Mean35\"] = DF.rolling(35).mean()[[\"Adj Close\"]]\n            DF1[\"Dif\"] = abs(DF1[\"Adj Close\"]-DF1['Mean35'])\n            mean_dif = DF1[\"Dif\"].mean()\n        \n            DFtotal = DF.merge(DF1, on = \"Date\")\n            DFtotal.drop(columns = [\"Adj Close_y\"], inplace = True)\n            DFtotalP = DFtotal.copy()\n            DFtotalP[\"Dif Pct\"] = (DFtotalP[\"Dif\"]/DFtotalP[\"Adj Close_x\"])*100\n            DFtotalP.dropna(inplace =True, axis = 0)\n            Dper = DFtotalP[\"Dif Pct\"][-1]\n            Price = DFtotalP[\"Adj Close_x\"][-1]\n        \n        \n            if DF1.loc[end_date][\"Dif\"] < mean_dif*3 :\n                print(\"{} Yesterday price is {} trend still going, Diff percent from Moving average Day 35 is {} %\".format(i, Price, Dper))\n            else :\n                print(\"!!! {} price is {} Check Price ,Diff percent from Moving average Day 35 ({} %) is too High !!!\".format(i, Price, Dper))\n\n        \n        print(datetime.now())",
            "execution_count": 8,
            "outputs": []
        },
        {
            "metadata": {},
            "cell_type": "code",
            "source": "def get_max (Major):\n    try:\n        for i in Major:\n            s1 = datetime.now() - timedelta(400)\n            s2 = datetime.now() - timedelta(2)\n        \n            start_date = \"{0}-{1}-{2}\".format(s1.day, s1.month, s1.year)\n            end_date = \"{0}-{1}-{2}\".format(s2.day, s2.month, s2.year)\n\n            DF = web.get_data_yahoo(i,start=start_date,end=end_date)   \n        \n            if DF['Volume'].iloc[-1] < DF['Volume'].max() :\n                print(\"{} today volume is not max\" .format(i))\n            else :\n                print(\"!!!{} today volume is max!!!\" .format(i))\n    except:\n        print(\"\u0e17\u0e33\u0e22\u0e31\u0e07\u0e44\u0e07\u0e15\u0e48\u0e2d\u0e27\u0e30?\")\n\n        print(datetime.now())",
            "execution_count": 9,
            "outputs": []
        },
        {
            "metadata": {},
            "cell_type": "code",
            "source": "get_max(Sym_S)",
            "execution_count": null,
            "outputs": [
                {
                    "output_type": "stream",
                    "text": "A.BK today volume is not max\nAAV.BK today volume is not max\nABPIF.BK today volume is not max\nACC.BK today volume is not max\nACE.BK today volume is not max\nACG.BK today volume is not max\nADVANC.BK today volume is not max\nAEC.BK today volume is not max\nAEONTS.BK today volume is not max\nAFC.BK today volume is not max\nAGE.BK today volume is not max\nAH.BK today volume is not max\nAHC.BK today volume is not max\nAI.BK today volume is not max\nAIMCG.BK today volume is not max\nAIMIRT.BK today volume is not max\nAIT.BK today volume is not max\nAJ.BK today volume is not max\nAJA.BK today volume is not max\nAKR.BK today volume is not max\nALLA.BK today volume is not max\nALT.BK today volume is not max\nALUCON.BK today volume is not max\nAMANAH.BK today volume is not max\nAMARIN.BK today volume is not max\nAMATA.BK today volume is not max\nAMATAR.BK today volume is not max\nAMATAV.BK today volume is not max\nAMC.BK today volume is not max\nANAN.BK today volume is not max\nAOT.BK today volume is not max\nAP.BK today volume is not max\nAPCO.BK today volume is not max\nAPCS.BK today volume is not max\nAPEX.BK today volume is not max\nAPURE.BK today volume is not max\nAQ.BK today volume is not max\nAQUA.BK today volume is not max\nAS.BK today volume is not max\nASAP.BK today volume is not max\nASEFA.BK today volume is not max\nASIA.BK today volume is not max\nASIAN.BK today volume is not max\nASIMAR.BK today volume is not max\nASK.BK today volume is not max\nASP.BK today volume is not max\nAWC.BK today volume is not max\nAYUD.BK today volume is not max\nB.BK today volume is not max\nB-WORK.BK today volume is not max\nB52.BK today volume is not max\nBA.BK today volume is not max\nBAFS.BK today volume is not max\nBAM.BK today volume is not max\nBANPU.BK today volume is not max\nBAY.BK today volume is not max\nBBL.BK today volume is not max\nBCH.BK today volume is not max\nBCP.BK today volume is not max\nBCPG.BK today volume is not max\nBCT.BK today volume is not max\nBDMS.BK today volume is not max\nBEAUTY.BK today volume is not max\nBEC.BK today volume is not max\nBEM.BK today volume is not max\nBFIT.BK today volume is not max\n",
                    "name": "stdout"
                }
            ]
        },
        {
            "metadata": {},
            "cell_type": "code",
            "source": "",
            "execution_count": null,
            "outputs": []
        }
    ],
    "metadata": {
        "kernelspec": {
            "name": "python3",
            "display_name": "Python 3.7",
            "language": "python"
        },
        "language_info": {
            "name": "python",
            "version": "3.7.9",
            "mimetype": "text/x-python",
            "codemirror_mode": {
                "name": "ipython",
                "version": 3
            },
            "pygments_lexer": "ipython3",
            "nbconvert_exporter": "python",
            "file_extension": ".py"
        }
    },
    "nbformat": 4,
    "nbformat_minor": 1
}